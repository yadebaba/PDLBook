{
 "cells": [
  {
   "cell_type": "markdown",
   "id": "84a3a925",
   "metadata": {},
   "source": [
    "# What is a Piddle?\n",
    "\n",
    "PDL uses Perl 'objects' to hold PDL data, affectionately called a **piddle**. **An 'object' is like a user-defined data-type** and is a very powerful feature of Perl, PDL creates it's own class of 'PDL' objects to store piddles. These look like ordinary Perl variables such as `$x`, `$Foo`, `$MyData`, etc.\n",
    "\n",
    "Most of the time you can forget about the fact that piddles are objects and treat them like ordinary variables:"
   ]
  },
  {
   "cell_type": "code",
   "execution_count": 1,
   "id": "550ba5b1",
   "metadata": {},
   "outputs": [
    {
     "data": {
      "text/plain": [
       "TOO LONG TO PRINT"
      ]
     },
     "execution_count": 1,
     "metadata": {},
     "output_type": "execute_result"
    }
   ],
   "source": [
    "use PDL; # add this because we are not in the PDL shell\n",
    "$x = rfits './data/m51_raw.fits';"
   ]
  },
  {
   "cell_type": "code",
   "execution_count": 2,
   "id": "be64c41c",
   "metadata": {},
   "outputs": [
    {
     "data": {
      "text/plain": [
       "TOO LONG TO PRINT"
      ]
     },
     "execution_count": 2,
     "metadata": {},
     "output_type": "execute_result"
    }
   ],
   "source": [
    "$y = rvals($x);"
   ]
  },
  {
   "cell_type": "code",
   "execution_count": 3,
   "id": "460c9bc0",
   "metadata": {},
   "outputs": [
    {
     "data": {
      "text/plain": [
       "TOO LONG TO PRINT"
      ]
     },
     "execution_count": 3,
     "metadata": {},
     "output_type": "execute_result"
    }
   ],
   "source": [
    "$z = $x/$y;"
   ]
  },
  {
   "cell_type": "code",
   "execution_count": 4,
   "id": "d554b137",
   "metadata": {},
   "outputs": [
    {
     "data": {
      "text/plain": [
       "TOO LONG TO PRINT"
      ]
     },
     "execution_count": 4,
     "metadata": {},
     "output_type": "execute_result"
    }
   ],
   "source": [
    "sqrt($x+$y+$z);"
   ]
  },
  {
   "cell_type": "markdown",
   "id": "6fed6c1f",
   "metadata": {},
   "source": [
    "The only time the distinction becomes important is when creating piddles and using the '=' operator.\n",
    "\n",
    "## Piddles are NOT Perl 'arrays'\n",
    "\n",
    "It is now time to answer a question which has probably been nagging at the back of your mind for a while.\n",
    "\n",
    "Why bother with piddles? Why not just use normal Perl 'arrays'?\n",
    "\n",
    "By Perl 'arrays' we of course mean entities like `@x` and `@Data` which one would normally create and manipulate like this:"
   ]
  },
  {
   "cell_type": "code",
   "execution_count": 5,
   "id": "7d6e3fe5",
   "metadata": {},
   "outputs": [
    {
     "data": {
      "text/plain": [
       "42"
      ]
     },
     "execution_count": 5,
     "metadata": {},
     "output_type": "execute_result"
    }
   ],
   "source": [
    "@x = (1,2,3);\n",
    "push @x, 42;\n",
    "$y = pop @x;"
   ]
  },
  {
   "cell_type": "markdown",
   "id": "bf692e66",
   "metadata": {},
   "source": [
    "So why don't we just use Perl 'arrays'? Several very good reasons:\n",
    "\n",
    "It is impossible to manipulate Perl 'arrays' arithmetically as one would like. i.e.:\n",
    "\n",
    ">**@y = @x * 2; # Wrong!**\n",
    "\n",
    "can not be made to operate element by element.\n",
    "\n",
    "Perl 'arrays' are really what are known in computer science as 'lists' (and are represented internally by a list data structure). In fact if the PDL-Porters had their evil way they would ban the term 'array' from all of the standard Perl documentation and books. This is why the term '**piddle**' was invented for use in PDL for what we think really are 'true arrays'.\n",
    "\n",
    "**Perl lists are intrinsically one-dimensional**. You can have '**lists of lists**' but this is not the same thing as true multi-dimensional arrays. Honest.\n",
    "\n",
    "**Perl lists consume a lot of memory**. At least 20 bytes per number, of which only a few are for the actual value. This is because Perl lists are flexible, and can contains text strings as well as numbers. This flexibility requires an internal complex data structure which contains extra information such as a place holder for the number, a place holder for the text and pointers forward and back along the list.\n",
    "\n",
    "**Perl lists are scattered about memory**. The list data structure means consecutive numbers are not stored in a neat block of consecutive memory addresses as C and FORTRAN programmers are used to. This makes it difficult to pass the arrays to low-level C and FORTRAN routines for processing -- the numbers must be collected together -a process known as 'packing' -- processed and unpacked back into lists. If you have '**lists of lists**' then it get's even worse.\n",
    "\n",
    "**Perl lists do not support the range of data types** that piddles do (byte arrays, integer arrays, single precision, double precision, etc.)\n",
    "\n",
    "That is why PDL does not use Perl lists. Just to be clear from now on we'll always refer to PDL numeric data arrays as '**piddles**' and Perl-style number/text arrays as '**lists**'."
   ]
  },
  {
   "cell_type": "code",
   "execution_count": null,
   "id": "b28538fb",
   "metadata": {},
   "outputs": [],
   "source": []
  }
 ],
 "metadata": {
  "kernelspec": {
   "display_name": "IPerl 0.012",
   "language": "perl",
   "name": "iperl"
  },
  "language_info": {
   "file_extension": ".pl",
   "mimetype": "text/x-perl",
   "name": "perl",
   "version": "5.36.0"
  }
 },
 "nbformat": 4,
 "nbformat_minor": 5
}
