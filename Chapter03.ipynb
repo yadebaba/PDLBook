{
 "cells": [
  {
   "cell_type": "markdown",
   "id": "e09fcbb7",
   "metadata": {},
   "source": [
    "# Chapter 3: Constructing PDLs\n",
    "PDL variables are a new class of object within Perl. There are three main ways to construct them: via the pdl constructor; via one of the special index PDL constructors; or by reading in some external data. In addition, there are hooks for stuffing your own raw data into a PDL variable. The more basic constructors are here.\n",
    "## The basic constructor, pdl()\n",
    "The most basic way to make a PDL is with the function **pdl()**. You can feed pdl just about anything that makes sense: a perl scalar, a perl list, a nested perl list, another PDL, or even a perl list of PDLs. It will return an appropriately-dimensioned PDL containing those values. Here are some examples:"
   ]
  },
  {
   "cell_type": "code",
   "execution_count": 1,
   "id": "96ca44cd",
   "metadata": {},
   "outputs": [
    {
     "data": {
      "text/plain": [
       "5"
      ]
     },
     "execution_count": 1,
     "metadata": {},
     "output_type": "execute_result"
    }
   ],
   "source": [
    "use PDL;\n",
    "$a = pdl( 5 ); # double-precision scalar"
   ]
  },
  {
   "cell_type": "code",
   "execution_count": 2,
   "id": "fb22539f",
   "metadata": {},
   "outputs": [
    {
     "data": {
      "text/plain": [
       "5"
      ]
     },
     "execution_count": 2,
     "metadata": {},
     "output_type": "execute_result"
    }
   ],
   "source": [
    "$a = pdl( short,5 ); # short-integer scalar"
   ]
  },
  {
   "cell_type": "code",
   "execution_count": 3,
   "id": "bc2c8289",
   "metadata": {},
   "outputs": [
    {
     "data": {
      "text/plain": [
       "[1 2 3]"
      ]
     },
     "execution_count": 3,
     "metadata": {},
     "output_type": "execute_result"
    }
   ],
   "source": [
    "$a = pdl( 1,2,3 ); # 3-PDL (one dim)"
   ]
  },
  {
   "cell_type": "code",
   "execution_count": 4,
   "id": "e9c7efe0",
   "metadata": {},
   "outputs": [
    {
     "data": {
      "text/plain": [
       "[1 2 3]"
      ]
     },
     "execution_count": 4,
     "metadata": {},
     "output_type": "execute_result"
    }
   ],
   "source": [
    "$a = pdl( [1,2,3] ); # 3-PDL, another way (just one dim)"
   ]
  },
  {
   "cell_type": "code",
   "execution_count": 5,
   "id": "aae32bc9",
   "metadata": {},
   "outputs": [
    {
     "data": {
      "text/plain": [
       "\n",
       "[\n",
       " [1 2 3]\n",
       "]\n"
      ]
     },
     "execution_count": 5,
     "metadata": {},
     "output_type": "execute_result"
    }
   ],
   "source": [
    "$a = pdl( [[1,2,3]] ); # 3x1-PDL (two dims)"
   ]
  },
  {
   "cell_type": "code",
   "execution_count": 6,
   "id": "fc857f0d",
   "metadata": {},
   "outputs": [
    {
     "data": {
      "text/plain": [
       "\n",
       "[\n",
       " [1 2 3]\n",
       " [4 5 6]\n",
       "]\n"
      ]
     },
     "execution_count": 6,
     "metadata": {},
     "output_type": "execute_result"
    }
   ],
   "source": [
    "$a = pdl( [[1,2,3],[4,5,6]] ); # 3x2-PDL (two dims)"
   ]
  },
  {
   "cell_type": "code",
   "execution_count": 7,
   "id": "6bcd76db",
   "metadata": {},
   "outputs": [
    {
     "data": {
      "text/plain": [
       "\n",
       "[\n",
       " [1 2 3]\n",
       " [4 5 6]\n",
       "]\n"
      ]
     },
     "execution_count": 7,
     "metadata": {},
     "output_type": "execute_result"
    }
   ],
   "source": [
    "$a = pdl \"[[1,2,3],[4,5,6]]\"; # Even strings from print output!"
   ]
  },
  {
   "cell_type": "markdown",
   "id": "eceaf23f",
   "metadata": {},
   "source": [
    "In the last couple of examples, notice that the innermost nested lists form the 0th dimension of the PDL.\n",
    "If you aren't sure whether a particular variable contains a PDL or not (and sometimes you care: there's a slight difference between a scalar PDL and a perl scalar!) you can always safely wrap a **pdl** call around it to be sure.\n",
    "\n",
    "## Array allocation: zeroes() and ones()\n",
    "The two operations zeroes and ones generate PDLs full of the value 0 and of the value 1, respectively. (well, what did you expect?) They're useful for allocating data in a hurry. If you feed in a list of perl scalars, they are used as a list of dimensions for the new PDL that gets returned. If you feed in a PDL, either one will simply match the size of the PDL. Examples:"
   ]
  },
  {
   "cell_type": "code",
   "execution_count": 8,
   "id": "17d8ff3a",
   "metadata": {},
   "outputs": [
    {
     "data": {
      "text/plain": [
       "\n",
       "[\n",
       " [0 0 0]\n",
       " [0 0 0]\n",
       " [0 0 0]\n",
       "]\n"
      ]
     },
     "execution_count": 8,
     "metadata": {},
     "output_type": "execute_result"
    }
   ],
   "source": [
    "$a = zeroes(3,3); # $a becomes a 3x3 array filled with 0"
   ]
  },
  {
   "cell_type": "code",
   "execution_count": 9,
   "id": "80e47484",
   "metadata": {},
   "outputs": [
    {
     "data": {
      "text/plain": [
       "\n",
       "[\n",
       " [0 0 0]\n",
       " [0 0 0]\n",
       " [0 0 0]\n",
       "]\n"
      ]
     },
     "execution_count": 9,
     "metadata": {},
     "output_type": "execute_result"
    }
   ],
   "source": [
    "$a = zeroes(byte,3,3); # ditto, only bytes instead of doubles"
   ]
  },
  {
   "cell_type": "code",
   "execution_count": 10,
   "id": "f3e287dc",
   "metadata": {},
   "outputs": [
    {
     "data": {
      "text/plain": [
       "\n",
       "[\n",
       " [1 1 1]\n",
       " [1 1 1]\n",
       " [1 1 1]\n",
       "]\n"
      ]
     },
     "execution_count": 10,
     "metadata": {},
     "output_type": "execute_result"
    }
   ],
   "source": [
    "$b = ones($a); # $b becomes a 3x3 array filled with 1"
   ]
  },
  {
   "cell_type": "code",
   "execution_count": 11,
   "id": "0350e6ab",
   "metadata": {},
   "outputs": [
    {
     "data": {
      "text/plain": [
       "[1 2 3]"
      ]
     },
     "execution_count": 11,
     "metadata": {},
     "output_type": "execute_result"
    }
   ],
   "source": [
    "$p = pdl(1,2,3); # A PDL containing [1 2 3]"
   ]
  },
  {
   "cell_type": "code",
   "execution_count": 12,
   "id": "67425132",
   "metadata": {},
   "outputs": [
    {
     "data": {
      "text/plain": [
       "[0 0 0]"
      ]
     },
     "execution_count": 12,
     "metadata": {},
     "output_type": "execute_result"
    }
   ],
   "source": [
    "$c = zeroes($p); # A 3-PDL containing [0 0 0]"
   ]
  },
  {
   "cell_type": "code",
   "execution_count": 13,
   "id": "5d0e3b95",
   "metadata": {},
   "outputs": [
    {
     "data": {
      "text/plain": [
       "\n",
       "[\n",
       " [\n",
       "  [0]\n",
       "  [0]\n",
       " ]\n",
       " [\n",
       "  [0]\n",
       "  [0]\n",
       " ]\n",
       " [\n",
       "  [0]\n",
       "  [0]\n",
       " ]\n",
       "]\n"
      ]
     },
     "execution_count": 13,
     "metadata": {},
     "output_type": "execute_result"
    }
   ],
   "source": [
    "$d = zeroes($p->list); # A 1x2x3-PDL ($p->list is a Perl list)"
   ]
  },
  {
   "cell_type": "markdown",
   "id": "5a3e4e64",
   "metadata": {},
   "source": [
    "## Index PDLs: xvals, yvals, rvals, sequence, ndcoords\n",
    "It is surprisingly useful to be able to generate \"index PDLs\": arrays whose elements merely enumerate their coordinates. PDL supplies a passel of index PDL constructors. The basics are **xvals**, **yvals** and **zvals**, which work like **zeroes** and **ones**, but construct an index PDL that works along the 0, 1, or 2 axis, respectively. For example:"
   ]
  },
  {
   "cell_type": "code",
   "execution_count": 14,
   "id": "40c2a0f7",
   "metadata": {},
   "outputs": [
    {
     "name": "stdout",
     "output_type": "stream",
     "text": [
      "\n",
      "[\n",
      " [0 1 2]\n",
      " [0 1 2]\n",
      " [0 1 2]\n",
      "]\n"
     ]
    },
    {
     "data": {
      "text/plain": [
       "1"
      ]
     },
     "execution_count": 14,
     "metadata": {},
     "output_type": "execute_result"
    }
   ],
   "source": [
    "print xvals(3,3)"
   ]
  },
  {
   "cell_type": "code",
   "execution_count": 15,
   "id": "efb66004",
   "metadata": {},
   "outputs": [
    {
     "name": "stdout",
     "output_type": "stream",
     "text": [
      "\n",
      "[\n",
      " [0 0 0]\n",
      " [1 1 1]\n",
      " [2 2 2]\n",
      "]\n"
     ]
    },
    {
     "data": {
      "text/plain": [
       "1"
      ]
     },
     "execution_count": 15,
     "metadata": {},
     "output_type": "execute_result"
    }
   ],
   "source": [
    "print yvals(3,3)"
   ]
  },
  {
   "cell_type": "markdown",
   "id": "cb1790fb",
   "metadata": {},
   "source": [
    "If you want more generality or higher dimensionality, **axisvals** works the same way but lets you specify the index dimension by number. Sometimes you want a PDL that contains radii from a given point. You could always apply the Pythagorean theorem explicitly:"
   ]
  },
  {
   "cell_type": "code",
   "execution_count": 16,
   "id": "c0325e91",
   "metadata": {},
   "outputs": [
    {
     "data": {
      "text/plain": [
       "\n",
       "[\n",
       " [-5 -4 -3 -2 -1  0  1  2  3  4]\n",
       " [-5 -4 -3 -2 -1  0  1  2  3  4]\n",
       " [-5 -4 -3 -2 -1  0  1  2  3  4]\n",
       " [-5 -4 -3 -2 -1  0  1  2  3  4]\n",
       " [-5 -4 -3 -2 -1  0  1  2  3  4]\n",
       " [-5 -4 -3 -2 -1  0  1  2  3  4]\n",
       " [-5 -4 -3 -2 -1  0  1  2  3  4]\n",
       " [-5 -4 -3 -2 -1  0  1  2  3  4]\n",
       " [-5 -4 -3 -2 -1  0  1  2  3  4]\n",
       " [-5 -4 -3 -2 -1  0  1  2  3  4]\n",
       "]\n"
      ]
     },
     "execution_count": 16,
     "metadata": {},
     "output_type": "execute_result"
    }
   ],
   "source": [
    "$x=xvals(10,10)-5;"
   ]
  },
  {
   "cell_type": "code",
   "execution_count": 17,
   "id": "9df1c28a",
   "metadata": {},
   "outputs": [
    {
     "data": {
      "text/plain": [
       "\n",
       "[\n",
       " [-5 -5 -5 -5 -5 -5 -5 -5 -5 -5]\n",
       " [-4 -4 -4 -4 -4 -4 -4 -4 -4 -4]\n",
       " [-3 -3 -3 -3 -3 -3 -3 -3 -3 -3]\n",
       " [-2 -2 -2 -2 -2 -2 -2 -2 -2 -2]\n",
       " [-1 -1 -1 -1 -1 -1 -1 -1 -1 -1]\n",
       " [ 0  0  0  0  0  0  0  0  0  0]\n",
       " [ 1  1  1  1  1  1  1  1  1  1]\n",
       " [ 2  2  2  2  2  2  2  2  2  2]\n",
       " [ 3  3  3  3  3  3  3  3  3  3]\n",
       " [ 4  4  4  4  4  4  4  4  4  4]\n",
       "]\n"
      ]
     },
     "execution_count": 17,
     "metadata": {},
     "output_type": "execute_result"
    }
   ],
   "source": [
    "$y=yvals(10,10)-5;"
   ]
  },
  {
   "cell_type": "code",
   "execution_count": 18,
   "id": "c94eb650",
   "metadata": {},
   "outputs": [
    {
     "name": "stdout",
     "output_type": "stream",
     "text": [
      "\n",
      "[\n",
      " [ 7.0710678  6.4031242  5.8309519  5.3851648  5.0990195          5  5.0990195  5.3851648  5.8309519  6.4031242]\n",
      " [ 6.4031242  5.6568542          5   4.472136  4.1231056          4  4.1231056   4.472136          5  5.6568542]\n",
      " [ 5.8309519          5  4.2426407  3.6055513  3.1622777          3  3.1622777  3.6055513  4.2426407          5]\n",
      " [ 5.3851648   4.472136  3.6055513  2.8284271   2.236068          2   2.236068  2.8284271  3.6055513   4.472136]\n",
      " [ 5.0990195  4.1231056  3.1622777   2.236068  1.4142136          1  1.4142136   2.236068  3.1622777  4.1231056]\n",
      " [         5          4          3          2          1          0          1          2          3          4]\n",
      " [ 5.0990195  4.1231056  3.1622777   2.236068  1.4142136          1  1.4142136   2.236068  3.1622777  4.1231056]\n",
      " [ 5.3851648   4.472136  3.6055513  2.8284271   2.236068          2   2.236068  2.8284271  3.6055513   4.472136]\n",
      " [ 5.8309519          5  4.2426407  3.6055513  3.1622777          3  3.1622777  3.6055513  4.2426407          5]\n",
      " [ 6.4031242  5.6568542          5   4.472136  4.1231056          4  4.1231056   4.472136          5  5.6568542]\n",
      "]\n"
     ]
    },
    {
     "data": {
      "text/plain": [
       "1"
      ]
     },
     "execution_count": 18,
     "metadata": {},
     "output_type": "execute_result"
    }
   ],
   "source": [
    "$a=sqrt( $x*$x + $y*$y );\n",
    "print $a;"
   ]
  },
  {
   "cell_type": "markdown",
   "id": "55cf8058",
   "metadata": {},
   "source": [
    "but it's much easier to use **rvals**, which does that stuff for you:"
   ]
  },
  {
   "cell_type": "code",
   "execution_count": 19,
   "id": "f58537c5",
   "metadata": {},
   "outputs": [
    {
     "data": {
      "text/plain": [
       "\n",
       "[\n",
       " [ 1.4142136          1  1.4142136]\n",
       " [         1          0          1]\n",
       " [ 1.4142136          1  1.4142136]\n",
       "]\n"
      ]
     },
     "execution_count": 19,
     "metadata": {},
     "output_type": "execute_result"
    }
   ],
   "source": [
    "$a = rvals(3,3);"
   ]
  },
  {
   "cell_type": "markdown",
   "id": "5150efa8",
   "metadata": {},
   "source": [
    "As with the others, **rvals** works in any number of dimensions, and can either take a dimension list or another PDL to match. There are a number of adjustments that you can make to **rvals**; see the online documentation for details.\n",
    "Finally, sometimes you want to create a full vector index PDL; for example, to enumerate all the coordinates in a 100x100 image you would want a 2x100x100-PDL. You can assemble one from **xvals**, **yvals**, or just use **ndcoords**. Here's how to do it either way:"
   ]
  },
  {
   "cell_type": "code",
   "execution_count": 20,
   "id": "084a5f75",
   "metadata": {},
   "outputs": [
    {
     "data": {
      "text/plain": [
       "TOO LONG TO PRINT"
      ]
     },
     "execution_count": 20,
     "metadata": {},
     "output_type": "execute_result"
    }
   ],
   "source": [
    "$a = pdl( xvals(100,100), yvals(100,100) )->mv(0,1); # slow way"
   ]
  },
  {
   "cell_type": "code",
   "execution_count": 21,
   "id": "d0ef58b9",
   "metadata": {},
   "outputs": [
    {
     "data": {
      "text/plain": [
       "TOO LONG TO PRINT"
      ]
     },
     "execution_count": 21,
     "metadata": {},
     "output_type": "execute_result"
    }
   ],
   "source": [
    "$a = ndcoords(100,100); # fast way"
   ]
  },
  {
   "cell_type": "markdown",
   "id": "19986b07",
   "metadata": {},
   "source": [
    "**ndcoords** works like all the other index constructors, except that it adds an additional dim to the beginning of its return value, to handle the fact that each index is a vector that points into an N-dimensional array. **ndcoords** and range together can be used to chop up an image into manageable tiles; see Section [sub:Range] , below."
   ]
  },
  {
   "cell_type": "markdown",
   "id": "18765c84",
   "metadata": {},
   "source": [
    "## Specialty constructors\n",
    "\n",
    "PDL contains two important internal constructors, **PDL::new_from_specification** and **null**, that are useful for importing data en masse or for other special applications. If you're just starting out, you probably don't really need to know this stuff just yet - you'll probably find the various data import techniques in [sec:Getting-values-into] more useful. So skip ahead if you like.\n",
    "\n",
    "**null** takes no arguments and returns a null PDL. A null PDL has no values, but (unlike the empty PDL) can be assigned to. Null PDLs are placeholders that automatically resize themselves to fit any dimensional context. They're mainly intended for internal use, but you might find them helpful in odd contexts (for example, you can pass a null PDL into a function as a write-back return value).\n",
    "\n",
    "**PDL::new_from_specification** is the engine that **zeroes**, **rvals**, and such use for initial construction. It takes the same sort of arguments as **zeroes** (an optional type and a PDL template or a size list), but doesn't bother with any initialization of the newly allocated RAM. This is especially useful if you're just going to stuff your own values into the new PDL anyway."
   ]
  },
  {
   "cell_type": "markdown",
   "id": "19d10558",
   "metadata": {},
   "source": [
    "# Getting values into and out of PDLs\n",
    "\n",
    "Unless you can get data in and out of your PDLs they won't do you much good. Most large blocks of data are handled by direct file I/O (Chapter [cha:File-I/O]), but you will also want to get normal Perl values into and out of your PDLs. Here are the basic ways to get data into your PDLs (from perl, other PDLs, or random chunks of memory), and back out again (into perl, into random chunks of memory, or into ASCII). For displaying your data you will want to look at Chapter [cha:Graphics]\n",
    "\n",
    "## Construction: slurping Perl arrays\n",
    "\n",
    "The simplest way to turn a bunch of Perl data into a PDL is by calling pdl(), the PDL constructor. The constructor pokes and prods the array structure of its argument(s), and creates a PDL that contains all the values in whatever nested array you've come up with. For example,"
   ]
  },
  {
   "cell_type": "code",
   "execution_count": 22,
   "id": "439f267a",
   "metadata": {},
   "outputs": [
    {
     "data": {
      "text/plain": [
       "\n",
       "[\n",
       " [ 0  1  2]\n",
       " [10 11 12]\n",
       " [20 21 22]\n",
       "]\n"
      ]
     },
     "execution_count": 22,
     "metadata": {},
     "output_type": "execute_result"
    }
   ],
   "source": [
    "$pdl_all = pdl(@pdl_source);\n",
    "$pdl_3x3 = pdl([00,01,02],[10,11,12],[20,21,22]);"
   ]
  },
  {
   "cell_type": "markdown",
   "id": "3beb181d",
   "metadata": {},
   "source": [
    "That is certainly the most convenient (and probably the fastest) way to stuff a bunch of values from Perl variables into a PDL."
   ]
  },
  {
   "cell_type": "markdown",
   "id": "22c31690",
   "metadata": {},
   "source": [
    "## Assignment with .=\n",
    "\n",
    "PDL distinguishes between two kinds of assignment: global assignment (the usual = operator) and threaded (computed) assignment (the .= operator).\n",
    "\n",
    "PDLs are best thought of as something like perl refs or C pointers: the variable points to the location in memory where the data reside. That makes array indexing and slicing straightforward, since you can hold a slice of a larger array in a related variable, without expensive memory copies. The global = operator is used to set the value of the pointer. The threaded .= operator is used to set the value of the data that are contained in the PDL. The two operators work quite differently. For example:"
   ]
  },
  {
   "cell_type": "code",
   "execution_count": 23,
   "id": "7e35b141",
   "metadata": {},
   "outputs": [
    {
     "data": {
      "text/plain": [
       "[0 1 2]"
      ]
     },
     "execution_count": 23,
     "metadata": {},
     "output_type": "execute_result"
    }
   ],
   "source": [
    "$a = xvals(3); # 1D-PDL: values are (0,1,2)"
   ]
  },
  {
   "cell_type": "code",
   "execution_count": 24,
   "id": "2bafef4e",
   "metadata": {},
   "outputs": [
    {
     "data": {
      "text/plain": [
       "\n",
       "[\n",
       " [0 0 0]\n",
       " [0 0 0]\n",
       " [0 0 0]\n",
       " [0 0 0]\n",
       "]\n"
      ]
     },
     "execution_count": 24,
     "metadata": {},
     "output_type": "execute_result"
    }
   ],
   "source": [
    "$b = zeroes(3,4); # 3x4 array of zeroes"
   ]
  },
  {
   "cell_type": "code",
   "execution_count": 25,
   "id": "ee68ce55",
   "metadata": {},
   "outputs": [
    {
     "data": {
      "text/plain": [
       "\n",
       "[\n",
       " [0 0 0]\n",
       " [0 0 0]\n",
       " [0 0 0]\n",
       " [0 0 0]\n",
       "]\n"
      ]
     },
     "execution_count": 25,
     "metadata": {},
     "output_type": "execute_result"
    }
   ],
   "source": [
    "$c = zeroes(3,4); # 3x4 array of zeroes"
   ]
  },
  {
   "cell_type": "code",
   "execution_count": 26,
   "id": "20abae9a",
   "metadata": {},
   "outputs": [
    {
     "data": {
      "text/plain": [
       "[0 1 2]"
      ]
     },
     "execution_count": 26,
     "metadata": {},
     "output_type": "execute_result"
    }
   ],
   "source": [
    "$b = $a; # $b becomes a clone of $a"
   ]
  },
  {
   "cell_type": "code",
   "execution_count": 27,
   "id": "171b1436",
   "metadata": {},
   "outputs": [
    {
     "data": {
      "text/plain": [
       "\n",
       "[\n",
       " [0 1 2]\n",
       " [0 1 2]\n",
       " [0 1 2]\n",
       " [0 1 2]\n",
       "]\n"
      ]
     },
     "execution_count": 27,
     "metadata": {},
     "output_type": "execute_result"
    }
   ],
   "source": [
    "$c .= $a; # $c becomes 4 copies of $a"
   ]
  },
  {
   "cell_type": "markdown",
   "id": "6d7a6bf5",
   "metadata": {},
   "source": [
    "puts two quite different values into \\\\$b and \\\\$c. At the end of the code, \\\\$b and \\\\$a are linked (they point to the same area of memory), so assigning to the elements of \\\\$b changes \\\\$a too. But \\\\$c remains a separate variable, whose elements happen to have received values from the corresponding elements of \\\\$a.\n",
    "\n",
    "But that's not all! \\\\$b and \\\\$c end up with completely different shapes. Because \\\\$c started out as a 3x4-PDL, the threading engine duplicates \\\\$a (which is a 3-PDL) for each row of \\\\$c. The .= operator is called threaded assignment, because it causes its right-hand argument to be expanded and vectorized exactly as any other operand would. Threading is explained in detail in Section [sec:Dimensionality-and-Threading]"
   ]
  },
  {
   "cell_type": "markdown",
   "id": "89c8cacc",
   "metadata": {},
   "source": [
    "## Importing data directly from memory: get_dataref\n",
    "\n",
    "PDL lets you access the memory of a PDL variable directly, using a perl string variable. You normally won't have to use this mechanism, but I include it here for completeness - if you are just learning PDL, you can probably skip thsi subsection.\n",
    "\n",
    "The string variable mechanism gives you access to the low-level representation of the data (which is the same as your C compiler would use). The string access routines are **get_dataref** and **upd_data. get_dataref** takes a PDL argument and returns a perl scalar ref that points to the PDL's data as a perl string. If you change the string, Perl might move it in memory, so you must then update the pointers in the PDL variable to match. That is what **upd_data** is for.\n",
    "\n",
    "Here's a brief example of how to import a large hunk of memory into a PDL. In this case, the hunk is three 1000x1000 image planes that you have somehow imported into a perl string, e.g. by reading from a file or executing a PerlXS script. The three image planes are to represent R, G, and B in a PDL with dimensions (3x1000x1000)."
   ]
  },
  {
   "cell_type": "code",
   "execution_count": 28,
   "id": "27907327",
   "metadata": {},
   "outputs": [
    {
     "data": {
      "text/plain": [
       "TOO LONG TO PRINT"
      ]
     },
     "execution_count": 28,
     "metadata": {},
     "output_type": "execute_result"
    }
   ],
   "source": [
    "$pdl = PDL->new_from_specification(byte,1000,1000,3);"
   ]
  },
  {
   "cell_type": "code",
   "execution_count": 29,
   "id": "23b9e30f",
   "metadata": {},
   "outputs": [
    {
     "data": {
      "text/plain": [
       "SCALAR(0x55976485a640)"
      ]
     },
     "execution_count": 29,
     "metadata": {},
     "output_type": "execute_result"
    }
   ],
   "source": [
    "$dref = $pdl->get_dataref; # $$dref is the PDL data as a string."
   ]
  },
  {
   "cell_type": "code",
   "execution_count": 30,
   "id": "3d5af3fb",
   "metadata": {},
   "outputs": [
    {
     "data": {
      "text/plain": [
       "TOO LONG TO PRINT"
      ]
     },
     "execution_count": 30,
     "metadata": {},
     "output_type": "execute_result"
    }
   ],
   "source": [
    "$$dref = $data; # Overwrite the string.\n",
    "$pdl->upd_data(); # Make sure the PDL knows it changed.\n",
    "$rgb = $pdl->mv(2,0); # 3x1000x1000."
   ]
  },
  {
   "cell_type": "markdown",
   "id": "e5f0839c",
   "metadata": {},
   "source": [
    "Here, **$$dref** is a Perl string that occupies the same location in RAM as the data in \\\\$pdl. Unless you're using 2-byte Unicode strings, the string has as many characters as there are bytes in the machine representation of the PDL. This example has a 3MB string - but a double-precision PDL with the same dimensions would have a 24MB string. Remember, **new_from_specification** allocates the PDL but doesn't initialize its contents - so initially the string is full of whatever garbage happened to be in that chunk of memory. Overwriting the string with a simple copy (or perl sysread operation) rapidly loads the binary data directly into \\\\$pdl, with no type conversion at all. (Warning - you can hose yourself if you shorten the string, which will de-allocate the end of the PDL!) Afterward, you have to update the internal data pointers in \\\\$pdl, in case Perl moved the string around. The final mv call makes sure that the dimensionality is right, without shuffling the actual bytes around.\n",
    "\n",
    "If you use this low-level mechanism, you are responsible for making sure that the data you put into the new PDL has the same form as the PDL's formal data type! You are also responsible for figuring out byteswapping for your machine - the bytes in the string are in machine order, not network order."
   ]
  },
  {
   "cell_type": "markdown",
   "id": "31c092c8",
   "metadata": {},
   "source": [
    "## Conversion to Perl types: at and list\n",
    "\n",
    "You can get a PDL scalar out into the Perl world with **at**, which requires the index of the scalar to pull out:"
   ]
  },
  {
   "cell_type": "code",
   "execution_count": 31,
   "id": "53b919b9",
   "metadata": {},
   "outputs": [
    {
     "data": {
      "text/plain": [
       "[0 2 4 6 8]"
      ]
     },
     "execution_count": 31,
     "metadata": {},
     "output_type": "execute_result"
    }
   ],
   "source": [
    "$a = xvals(5)*2; # $a is a PDL"
   ]
  },
  {
   "cell_type": "code",
   "execution_count": 32,
   "id": "0d057dd9",
   "metadata": {},
   "outputs": [
    {
     "data": {
      "text/plain": [
       "8"
      ]
     },
     "execution_count": 32,
     "metadata": {},
     "output_type": "execute_result"
    }
   ],
   "source": [
    "$a4 = $a->at(4); # $a4 is a perl scalar"
   ]
  },
  {
   "cell_type": "markdown",
   "id": "ad41cb41",
   "metadata": {},
   "source": [
    "You can also export a whole PDL with **list**:"
   ]
  },
  {
   "cell_type": "code",
   "execution_count": 33,
   "id": "f03515b6",
   "metadata": {},
   "outputs": [
    {
     "data": {
      "text/plain": [
       "02468"
      ]
     },
     "execution_count": 33,
     "metadata": {},
     "output_type": "execute_result"
    }
   ],
   "source": [
    "@a = $a->list;"
   ]
  },
  {
   "cell_type": "code",
   "execution_count": 34,
   "id": "cf70b063",
   "metadata": {},
   "outputs": [
    {
     "data": {
      "text/plain": [
       "0-2-4-6-8-"
      ]
     },
     "execution_count": 34,
     "metadata": {},
     "output_type": "execute_result"
    }
   ],
   "source": [
    "map {$_.\"-\"} $a->list # for($a->list) { print $_, - ; } # this original code does not work normally in IPerl"
   ]
  },
  {
   "cell_type": "markdown",
   "id": "cad6d0c7",
   "metadata": {},
   "source": [
    "Be careful with **at**, as you almost never want to use it - it is tedious for anything nontrivial, and extremely slow! Particularly if you find yourself placing an **at** call inside a **for** loop, you should probably stop and think about how to use threading for your problem - see below."
   ]
  },
  {
   "cell_type": "markdown",
   "id": "00c908f9",
   "metadata": {},
   "source": [
    "## Data Types and Contexts\n",
    "\n",
    "Because PDL is a hybrid language, it's important to understand Perl's data structures as well as PDL's. Normal Perl variables are represented in a way that makes sense for Perl's original application - small to medium sized \"glue\" tasks - while PDL variables and arrays (\"PDLs\") have a more traditional typing scheme.\n",
    "\n",
    "Unlike most other languages, ordinary Perl uses \"polymorphous\" (or \"behind-your-back\") typing. While the traditional simple types (boolean, string, short, long, float, double) are all represented, the language doesn't distinguish between the different types. The Perl engine keeps track of each variable's representation, and delivers to you the most appropriate representation depending on context. For example, + is an arithmetic operator, so the expression \"5\" + 2 yields the number 7 even though one of its terms began life as a string.\n",
    "\n",
    "PDL variables are implemented on top of Perl's normal variable system. A PDL is effectively a new type of perl scalar, that can contain a whole array of numeric values. PDLs are strongly typed, but are still slightly influenced by Perl's notion of context. In particular, PDLs behave slightly differently in numeric, boolean, and string context. In Perl numeric contexts, PDLs act normally. In boolean/logical contexts, they act like boolean values in the C language - the only false value is 0, and any nonzero value is treated as true (note: Not all languages treat nonzero values as logical-true, which may come as a surprise to C or Perl programmers. For example, some FORTRANs and RSI's IDL language use the least-significant bit of integer variables as the boolean truth value of the integer).\n",
    "\n",
    "In Perl string contexts, PDLs act like descriptive multiline strings (or the string \"TOO LONG TO PRINT\"). See the following subsections for details."
   ]
  },
  {
   "cell_type": "markdown",
   "id": "552d5f61",
   "metadata": {},
   "source": [
    "## Refresher on Perl Data Types & Contexts\n",
    "\n",
    "While the underlying representations of objects change, Perl itself recognizes only a few distinct variable types. These are \" scalar\", \"ref\", \"array\" (also called \"list\"), and \"hash\". (PDLs are implemented as special refs that are opaque to perl itself; perl treats them as scalars). The ones relevant to PDLs are scalars, lists, and hashes.\n",
    "\n",
    "- **Scalar variables** or expressions hold a single value - a string, a number, the undefined value, or a reference (\"ref\") to one of the other basic types (see below). A scalar - even one that carries a numeric value - is slightly different than a PDL with one element.\n",
    "\n",
    "- **List values** (often called \"arrays\" by the general Perl community) are collections of scalars that are indexed by number. Unlike normal arrays or PDLs, perl lists are expanded automatically as needed, so you can address any element whether it exists or no. List elements can contain any perl scalar value.\n",
    "\n",
    "- **Hash values** are collections of scalars that are indexed by string. Hashes act like lookup tables or dynamic structures. Instead of being numbered, each element is addressed by name.\n",
    "\n",
    "- **Refs** are special scalar values that hold pointers to other data types. They have a different name than pointers, to remind you that they are podiatrically friendly - it's much harder to shoot yourself in the foot with refs than it is with pointers. Perl variables maintain a reference count (like UNIX files) and are automatically deallocated when the last reference disappears - so you don't have to keep track of whether a ref is valid or no. Refs come in four basic flavors: scalar refs, list refs, hash refs, and code refs.\n",
    "\n",
    "Refs can be used to \"roll up\" large data structures (like lists) into a single scalar value; this is how Perl implements multi-dimensional lists and complex data structures. In addition, refs may be \"blessed\" into a particular object class; this is the mechanism that Perl uses for object oriented programming. Blessing merely associates the target of the ref with a particular kind of object. PDLs are implemented as blessed Perl refs, so that a PDL (which may hold a million values) may appear wherever you can put a Perl scalar."
   ]
  },
  {
   "cell_type": "markdown",
   "id": "0c12ca8b",
   "metadata": {},
   "source": [
    "## PDL Data Types\n",
    "\n",
    "PDLs are strongly typed: when you create a PDL, it gets a particular representation and stays that way. The basic types are familiar to C programmers: byte, short, unsigned short, long, long long, float, and double. You can compile 64-bit support into your copy of PDL, and have access to wide doubles and other such exotica. Complex numbers are supported as a subclass of PDL; see Chapter [cha:Subclass-Smorgasbord].\n",
    "\n",
    "PDL types are automatically converted as necessary within arithmetic expressions, at some cost in speed. Numeric expressions run faster between PDLs of the same type than between PDLs of different types, but all numeric expressions work more or less the way a C programmer would expect, with data types being automagically promoted to the highest complexity type that is used in each expression."
   ]
  },
  {
   "cell_type": "markdown",
   "id": "d94f14f4",
   "metadata": {},
   "source": [
    "## PDLs and Perl Contexts\n",
    "\n",
    "While the representation of each PDL is fixed, the interpretation is different in each of the three main Perl scalar contexts:\n",
    "\n",
    "**Numeric context** is what you get if you use PDLs in the usual way - adding, subtracting, and such. Normal numeric operations act elementwise, and each array preserves its storage class (char/byte, short-int, long-int, float, double, etc.). If you mix a PDL with a Perl variable in numeric context (for example, pdl(2,3,4)+5), then the Perl variable is \"promoted\" to a PDL.\n",
    "\n",
    "**Boolean context** is what you get if you use a PDL in a branch statement like if or while or even the && and || operators. Multi-element PDLs are not allowed in this context, to avoid the confusion inherent in non-deterministic branching (&& and || are short-circuit operators that don't evaluate the second term if doing so would be redundant). Single-element PDLs are treated as TRUE if they are nonzero and FALSE if they are zero. (Note that the bitwise logical operators, such as & apply numeric, rather than boolean, context - so you can do elementwise Boolean arithmetic with &, |, and ^ - but not with &&, ||, and ^^.\n",
    "\n",
    "**String context** is what you get if you use a PDL as a string. The PDL gets converted to a human-readable string suitable for printing. The new **pdl()** string input capability allows one to convert printed piddles back into the original object. The feature includes support for MATLAB-style [; ] syntax as well.\n",
    "\n",
    "Because string conversion is intended for use with **print**, PDLs that are moderately large (more than about 1,000 elements) don't get converted - the string that you get back is **TOO LONG TO PRINT**. String context is easy to remember as \"just\" a way to give you direct access to the output of **print**: use a PDL as if it were a string, and you get the string that would be printed.\n",
    "\n",
    "## BAD Values\n",
    "\n",
    "PDL lets you propagate bad/missing values in your data. You can set a particular numeric value that will be treated as BAD and ignored by the underlying code.\n",
    "\n",
    "You can mark values BAD with the **setbadif** and **setbadat** methods. Bad values are treated as truly missing by statistical routines and collapse operators (that summarize each row of a PDL) and as poisonous by arithmetic routines. For example, **average** and **sumover** ignore bad values completely, multiplication will mark appropriate output values as bad, and **convolve** and **convolveND** will cause bad patches to spread throughout a block of data."
   ]
  },
  {
   "cell_type": "markdown",
   "id": "660c329f",
   "metadata": {},
   "source": [
    "## Dataflow\n",
    "\n",
    "\"Dataflow\" is the concept that multiple variables can remain connected to one another (so that data flows between them). PDL allows you to keep multiple variables that refer to the same underlying data. For example, if you  extract a subfield of a large data array you can pass it to subroutines and other expressions just like any other PDL, but changes will still propagate back to the large array unless you indicate otherwise.\n",
    "\n",
    "In general, PDL's element-selection operators (such as slicing and indexing) maintain dataflow connections unless they are explicitly severed. To support dataflow, PDL has two different kinds of assignment: the global assignment operator = and the computed assignment operator .=.\n",
    "\n",
    "Global assignment is used to create new PDLs, and computed assignment is used to insert values into existing PDLs. Many other languages, such as FORTRAN and IDL, don't maintain dataflow for slices of arrays except in the special case where the slice operation is on the left-hand side of an assignment; in that case, those languages assume computed assignment rather than global assignment. That nuance sweeps under the rug the differences between the two types of assignment. It also yields many special cases that do not work correctly in those languages - for example, array subroutine parameters in IDL are passed by reference and can hence be used to change the original\n",
    "array - but array slices are copied before being passed, so the original array does not change. C sidesteps the issue by not (directly) supporting array slices. One result is that you can keep multiple representations of your data, and work on the representation that is most convenient. For example:"
   ]
  },
  {
   "cell_type": "code",
   "execution_count": 35,
   "id": "e7171967",
   "metadata": {},
   "outputs": [
    {
     "data": {
      "text/plain": [
       "[0 1 2 3 4]"
      ]
     },
     "execution_count": 35,
     "metadata": {},
     "output_type": "execute_result"
    }
   ],
   "source": [
    "$a = xvals(5);"
   ]
  },
  {
   "cell_type": "code",
   "execution_count": 36,
   "id": "5727ca66",
   "metadata": {},
   "outputs": [
    {
     "data": {
      "text/plain": [
       "[2]"
      ]
     },
     "execution_count": 36,
     "metadata": {},
     "output_type": "execute_result"
    }
   ],
   "source": [
    "$b = $a->slice(2); # global # $b = $a(2) works in PDL shell, but not in iPerl"
   ]
  },
  {
   "cell_type": "code",
   "execution_count": 37,
   "id": "9a3b6425",
   "metadata": {},
   "outputs": [
    {
     "data": {
      "text/plain": [
       "[100]"
      ]
     },
     "execution_count": 37,
     "metadata": {},
     "output_type": "execute_result"
    }
   ],
   "source": [
    "$b .= 100; # computed - flows back to $a"
   ]
  },
  {
   "cell_type": "code",
   "execution_count": 38,
   "id": "c089a471",
   "metadata": {},
   "outputs": [
    {
     "data": {
      "text/plain": [
       "[0 1 100 3 4]"
      ]
     },
     "execution_count": 38,
     "metadata": {},
     "output_type": "execute_result"
    }
   ],
   "source": [
    "$a;"
   ]
  },
  {
   "cell_type": "markdown",
   "id": "668d5bc4",
   "metadata": {},
   "source": [
    "Here, `$a` and `$b` remain connected by the slicing/indexing operation, so the change in `$b` flows back to `$a`. Most indexing operations maintain dataflow. At times, you want to ensure that your variables remain separate or to make a physical copy of your data.\n",
    "\n",
    "The copy operator makes a physical copy of its argument and returns it. In general, if you want a real copy of something, just ask for it:"
   ]
  },
  {
   "cell_type": "code",
   "execution_count": 39,
   "id": "ff991381",
   "metadata": {},
   "outputs": [
    {
     "data": {
      "text/plain": [
       "[0 1 2 3 4]"
      ]
     },
     "execution_count": 39,
     "metadata": {},
     "output_type": "execute_result"
    }
   ],
   "source": [
    "$a = xvals(5);\n",
    "$b = $a->slice(2)->copy; # revised from $b = $a(2)->copy;\n",
    "$b .= 100;\n",
    "$a;"
   ]
  },
  {
   "cell_type": "markdown",
   "id": "a9d18696",
   "metadata": {},
   "source": [
    "or, even more straightforwardly,"
   ]
  },
  {
   "cell_type": "code",
   "execution_count": 40,
   "id": "e85f24a6",
   "metadata": {},
   "outputs": [
    {
     "data": {
      "text/plain": [
       "[0 1 2 3 4]"
      ]
     },
     "execution_count": 40,
     "metadata": {},
     "output_type": "execute_result"
    }
   ],
   "source": [
    "$a = xvals(5);\n",
    "$c = $a; # $c and $a remain connected\n",
    "$b = $a->copy; # $b is a (separate) copy of $a"
   ]
  },
  {
   "cell_type": "markdown",
   "id": "d40e16c5",
   "metadata": {},
   "source": [
    "The **sever** operator is slightly more subtle. It acts in place on its argument, cutting most kinds of dataflow connection. It cannot disconnect two variables that were cloned with Perl's =; it can only sever the dataflow connection between related PDLs. The wart is present in current versions that rely on the Perl 5 engine, because it is not possible to overload the built-in = operator in Perl 5."
   ]
  },
  {
   "cell_type": "code",
   "execution_count": 41,
   "id": "41f2489d",
   "metadata": {},
   "outputs": [
    {
     "data": {
      "text/plain": [
       "[2 3]"
      ]
     },
     "execution_count": 41,
     "metadata": {},
     "output_type": "execute_result"
    }
   ],
   "source": [
    "$a = xvals(5);\n",
    "$b = $a->slice(\"2:3\")->sever; # $b is a slice of $a: gets separated"
   ]
  },
  {
   "cell_type": "code",
   "execution_count": 42,
   "id": "34ac5a05",
   "metadata": {},
   "outputs": [
    {
     "data": {
      "text/plain": [
       "[102 103]"
      ]
     },
     "execution_count": 42,
     "metadata": {},
     "output_type": "execute_result"
    }
   ],
   "source": [
    "$b += 100; # changing $b"
   ]
  },
  {
   "cell_type": "code",
   "execution_count": 43,
   "id": "57151244",
   "metadata": {},
   "outputs": [
    {
     "data": {
      "text/plain": [
       "[0 1 2 3 4]"
      ]
     },
     "execution_count": 43,
     "metadata": {},
     "output_type": "execute_result"
    }
   ],
   "source": [
    "$a # doesn't affect $a"
   ]
  },
  {
   "cell_type": "code",
   "execution_count": 44,
   "id": "246ebce9",
   "metadata": {},
   "outputs": [
    {
     "data": {
      "text/plain": [
       "[100 101 102 103 104]"
      ]
     },
     "execution_count": 44,
     "metadata": {},
     "output_type": "execute_result"
    }
   ],
   "source": [
    "$c = $a->sever; # $c is a clone of $a: still connected\n",
    "$c += 100; # changing $c"
   ]
  },
  {
   "cell_type": "code",
   "execution_count": 45,
   "id": "a4e8742a",
   "metadata": {},
   "outputs": [
    {
     "data": {
      "text/plain": [
       "[100 101 102 103 104]"
      ]
     },
     "execution_count": 45,
     "metadata": {},
     "output_type": "execute_result"
    }
   ],
   "source": [
    "$a # does affect $a"
   ]
  },
  {
   "cell_type": "markdown",
   "id": "15a11199",
   "metadata": {},
   "source": [
    "## Threading\n",
    "\n",
    "Array languages like PDL perform basic operations by looping over an entire array, applying a simple operation to each element, row, or column of the array. This process is called **threading**. Threading is accomplished by the threading engine, which matches up the sizes of different variables and ensures that they \"fit\". The threading engine is based on constructs from linear algebra (but is slightly more forgiving than most math professors).\n",
    "\n",
    "Most operations act on the first few dimensions of a PDL. These first dimensions are active dimensions and any dimensions after that are called thread dimensions. The active dimensions must match any requirements of the operator, and the thread dimensions are automatically looped over by the threading engine. The operator sets the number of active and thread dimensions. A given operator may have 0 active dimensions (e.g. addition, +), 1 active dimension (e.g. reduce operators like **sumover** and vector operators like **cross**), 2 active dimensions (e.g. matrix multiplication), or even more.\n",
    "\n",
    "You can rearrange the way that an operator acts on a PDL by rearranging the dim list of that PDL, to bring dims down into the active position(s) for an operation or to bring them up to be threaded over. These rearrangements are a generalization of matrix transposition, though in general they are quite fast as they don't actually transpose the data in memory - only rearrange PDL's internal metadata that explain how the block of memory is to be used.\n",
    "\n",
    "## Threading rules\n",
    "\n",
    "PDL operators that act on two or more operands require the thread dimensions of each operand to match up. The threading engine follows these rules for each dim (starting with the 0 dim and iterating through to the highest dim in either operand):\n",
    "\n",
    "- If both operands have the dim and it has a size greater than 1 in each operand, then the size must be the same for both! **print pdl(1,2,3) * pdl(3,4)** doesn't work, because dim 0 of the left operand has size 3 and dim 0 of the right operand has size 2. **print pdl(1,2,3) * pdl(4,5,6)** prints the string [4 10 18].\n",
    "\n",
    "- If both operands have the dim and it has size 1 in at least one operand (it is a trivial dim), then the dim is \"extended\" as a dummy dimension. This is a generalization of scalar multiplication in linear algebra. **print pdl(1,2,3) * pdl(2)** prints the string [2 4 6].\n",
    "\n",
    "- If a dimension exists in one operand and not in the other, it is treated as a virtual trivial dim. **print pdl([1,2],[3,4]) * pdl(3)** prints the string [ [3 6] [9 12] ].\n",
    "\n",
    "- If one operand is a PDL and the other is a Perl scalar, the scalar is PDL-ified before the operation. **print pdl([1,2],[3,4]) * 3** prints the string [ [3 6] [9 12] ].\n"
   ]
  },
  {
   "cell_type": "markdown",
   "id": "293b7239",
   "metadata": {},
   "source": [
    "## Conrolling threading and dimension order: xchg, mv, reorder, flat, clump, and reshape\n",
    "\n",
    "Because rearranging the dim list of a PDL (ie transposing it) is the way to control the threading engine, PDL has many operators that are devoted to rearranging dim lists. Here are six of them:\n",
    "\n",
    "**transpose - matrix transposition**\n",
    "\n",
    "`$at=$a->transpose` will yield the transpose of a matrix `$a` (that is, with the 0 and 1 dims exchanged); you can use `$a->inplace->transpose` to change the variable itself. Of course, if `$a` has more than two dims, it is treated as a collection of matrices (the other dims are threaded over).\n",
    "\n",
    "**xchg - generalized transposition**\n",
    "\n",
    "You can generalize transpose to any two dims with xchg - just give the index numbers and those two indices get exchanged (transposed): `$at = $a->xchg(0,1)` is the same as using transpose, but you can also say (for example) `$ax = $a->xchg(0,3)`.\n",
    "\n",
    "**mv - dim reshuffling**\n",
    "\n",
    "Using mv shifts a dim from its original location to a new location; all the other dims stay in the same relative order but get shifted to make room and/or fill up the old slot. You can say, for example, `$b = $a->mv(3,0)` to move dimension 3 to the 0 slot. Afterward, `$b` will have the dimensions of $a in the order (3,0,1,2).\n",
    "\n",
    "**reorder - arbitrary redimensioning**\n",
    "\n",
    "This is useful for carrying out many transpositions at once. You specify the order in which the old dimensions should appear in the new PDL: `$b=$a->reorder(3,0,1,2)` is the same as `$b=$a->mv(3,0)`, and `$at=$a->reorder(1,0)` does the same thing as `$at=$a->transpose`. You can reorder all the dimensions of your PDL or just the first few - if you ignore later dimensions they carried along \"for the ride\", keeping the same order in which they came.\n",
    "\n",
    "**flat - flatten a PDL**\n",
    "\n",
    "Flat reduces a PDL of arbitrary dimension to one with a single long dimension. The 0 dimension runs fastest in the resulting 1-D PDL, and the last dimension runs slowest. For example, if `$a` is a 120x120 image then `$a->flat` is a 1-D array of 14400 values. That is useful, for example, for making a reduce operator (see Section [sub:Collapse-Operators]) work on a whole PDL at once. In the above example, `$a->average` would return a 120-array of row average brightnesses, but `$a->flat->average` would return the average brightness of the whole image (or, if `$a` had more dimensions) the average brightness of the whole collection.\n",
    "\n",
    "**clump - flatten specific dims**\n",
    "\n",
    "Clump is useful for making an operation that normally works on one dimension work on more at once. For example, `$im->average` reduces an NxMx3 RGB image into a Mx3 array of row-average brightnesses. If you want the average brightness of each color throughout the whole image, you can say either `$im->average->average` or `$im->clump(2)->average`, to get a 3-array of average brightnesses for R, G, and B.\n",
    "\n",
    "**reshape - allocate dims yourself**\n",
    "\n",
    "With reshape you can reassign the block of memory that makes up a PDL, cutting it up however you please. For example, if `$a` is a 60x60 image, you can say `$b=$a->reshape(100,36)` to create instead a 100x36 image. The product of the new dimensions should be less than or equal to the product of the old dimensions, or strange things may happen!"
   ]
  },
  {
   "cell_type": "markdown",
   "id": "415daee7",
   "metadata": {},
   "source": [
    "## Dummy Dimensions\n",
    "\n",
    "Dummy dimensions are bookkeeping dimensions that act to the threading engine like complete dimensions but in fact repeat the same data in each position in the new dimension. A dummy dimension is simply a convenient bookkeeping convention; no extra memory is allocated for it. You create dummy dimensions with the dummy operator or via the slicing syntax explained elsewhere.\n",
    "\n",
    "The dummy operator takes two parameters: a position at which the dummy dimension is to be inserted into the dim list, and a size. For example, if `$a` is a 100-array, then `$b=$a->dummy(0,50)`makes `$b` a 50x100 image - except that each column of `$b` points to the same piece of memory, so that assigning to any element of `$b` changes a whole row.\n",
    "\n",
    "You can \"physicalize\" a dummy dimension by making an explicit copy. For example, `$b=$a->dummy(0,50)->copy` makes `$b` a 50x100 image, each column of which happens to contain the same data, but in this case every pixel of `$b` is allocated separately from memory, so that assigning to `$b` works in the normal way.\n",
    "\n",
    "## Collapse/Reduce Operators and Reduction\n",
    "\n",
    "PDL contains many \"collapse operators\": enough of them that they deserve special attention as a group. A collapse operator has a single active dim. It summarizes elements along each row (the 0 dim) of a PDL, returning the summary of that row as a single number. Thus, a collapse operator will reduce a D-dimensional PDL to D-1 dimensions. The **average, sumover, and andover* operators are examples of collapse operators: each one has a single active dim and produces the average, sum, or logical AND (respectively) of everything along that dim of the argument PDL. To average over a dim other than the 0 dim, you must move that dim to the 0 position. For example, to convert a color image that is (NxMx3) to a black-and-white image that is (NxM) you can say `$bw=$rgb->mv(2,0)->average`. For historical reasons, some documentation refers to them as \"reduce operators\", because they reduce the dimensionality of their operands. "
   ]
  },
  {
   "cell_type": "markdown",
   "id": "9608a7d3",
   "metadata": {},
   "source": [
    "## PDL Headers\n",
    "\n",
    "Every PDL can contain a \"header\" - a perl hash ref (that is, a collection of keyword/value pairs) that stores metadata about the PDL itself. Some of the built-in routines are aware of the FITS WCS format for metadata about scientific images, and use the header slot to store a WCS coordinate system about the PDL; but most operations do not use or affect the header at all. You are free to store whatever data you like in it.\n",
    "\n",
    "An internal flag associated with each PDL controls whether the header is propagated to derived PDLs. Copying the header can be a time-consuming operation, many times slower than arithmetic on small PDLs - but it can be quite convenient as well. PDL keeps the copying flag false by default on most new PDLs, but if you set it to true (using the **hdrcpy** method, see below), then the both the header and the copy flag will be copied to derived PDLs.\n",
    "\n",
    "Convenient interfaces exist to use an Astro::FITS::Header tied hash instead of a normal Perl hash ref. Astro::FITS::Header tied hashes act like normal Perl hashes but force case-insensitivity and provide some control over the card structure of the underlying FITS header.\n",
    "\n",
    "**hdr & fhdr - access PDL header elements**\n",
    "\n",
    "You can access elements the header of a PDL by inlining the **hdr** or **fhdr** method into a hash dereference: `$a->hdr->{keyword}=$value;`, or `$val=$a->hdr->{keyword}`. If the header doesn't exist, then it is autogenerated. The only difference between **hdr** and **fhdr** is that, if no header exists, fhdr autogenerates tied FITS header objects while hdr autogenerates normal Perl hashes.\n",
    "\n",
    "**gethdr & sethdr - manipulate a complete PDL header**\n",
    "\n",
    "You can get or store the current header of a PDL with the **gethdr** and **sethdr** methods. `$a->gethdr` returns either a hash ref (which could be a tied object such as a FITS header object) or the undefined value. `$a->sethdr($hdr)` accepts either a hash ref or the undefined value, and assigns it to the pdl's header.\n",
    "\n",
    "**hdr_copy - return a deep copy of a PDL's header**\n",
    "\n",
    "The **gethdr** method makes a shallow copy of the PDL's header - it returns a ref that points to the original header data. If instead you want a complete, deep copy (that you can modify without affecting the original PDL) you want **hdr_copy** instead.\n",
    "\n",
    "**hdrcpy - control header copying**\n",
    "\n",
    "If you apply an operator to a PDL with a header set, you can arrange to have the header copied to the result PDL. The underlying hash or object is deep-copied, which is somewhat expensive; so you must set a flag on the source PDL to make it happen. `$a->hdrcpy()` returns the state of the copying flag; `$a->hdrcpy($flag)` sets it. False values (the default) turn the feature off, true values turn it on."
   ]
  },
  {
   "cell_type": "code",
   "execution_count": null,
   "id": "054c4238",
   "metadata": {},
   "outputs": [],
   "source": []
  }
 ],
 "metadata": {
  "kernelspec": {
   "display_name": "IPerl 0.012",
   "language": "perl",
   "name": "iperl"
  },
  "language_info": {
   "file_extension": ".pl",
   "mimetype": "text/x-perl",
   "name": "perl",
   "version": "5.36.0"
  }
 },
 "nbformat": 4,
 "nbformat_minor": 5
}
