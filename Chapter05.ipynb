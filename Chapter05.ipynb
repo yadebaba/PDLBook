{
 "cells": [
  {
   "cell_type": "markdown",
   "id": "0598fbfd",
   "metadata": {},
   "source": [
    "# Slicing, Dicing and Threading dims with PDL\n",
    "\n",
    "Fundamental to any vectorized data language such as PDL is the ability to manipulate subsets of data in convenient ways. PDL provides the facilities to change the size and dimensionality of data, to take contiguous and non-contiguous subsections of data along dimensions and to take completely arbitrary subsets of data meeting arbitrary criteria.\n",
    "\n",
    "A key powerful feature is the ability to manipulate these subsets of data, and if desired to propagate these changes back to the original data **automatically**. This includes passing data to user-written subroutines, which may call standard external C code, which do not know or care about whether the data is a subset or not.\n",
    "\n",
    "That sounds pretty abstract - but here is a concrete example: with PDL one could for example select all the pixels in an image greater than a certain value or meeting some other condition. This might serve to isolate a bright star or galaxy. One could then pass the pixel values and their locations to a photometry subroutine (which is just written to work on data arrays not caring whether it is a subset or not) which would fit the pixels with some model and replace them in the array. These changed pixels would then be automatically changed in the original image.\n",
    "\n",
    "This sort of abstraction is extremely powerful as it allows for very concise and clear code. We'll start by looking at the simplest operations to extract simple slices of piddles, and look at increasingly more complex kinds of slices.\n",
    "\n",
    "## Finding piddle dimensions.\n",
    "\n",
    "PDL data arrays can take arbitrary sizes and dimensions. Finding the current dimensions is straight-forward with the **dims** function which returns a list:"
   ]
  },
  {
   "cell_type": "code",
   "execution_count": 1,
   "id": "20923d39",
   "metadata": {},
   "outputs": [
    {
     "data": {
      "text/plain": [
       "\n",
       "[\n",
       " [\n",
       "  [0 0 0 0 0]\n",
       "  [0 0 0 0 0]\n",
       "  [0 0 0 0 0]\n",
       "  [0 0 0 0 0]\n",
       " ]\n",
       " [\n",
       "  [0 0 0 0 0]\n",
       "  [0 0 0 0 0]\n",
       "  [0 0 0 0 0]\n",
       "  [0 0 0 0 0]\n",
       " ]\n",
       " [\n",
       "  [0 0 0 0 0]\n",
       "  [0 0 0 0 0]\n",
       "  [0 0 0 0 0]\n",
       "  [0 0 0 0 0]\n",
       " ]\n",
       "]\n"
      ]
     },
     "execution_count": 1,
     "metadata": {},
     "output_type": "execute_result"
    }
   ],
   "source": [
    "use PDL; # add this because we are not in the PDL shell\n",
    "$data = zeroes(5,4,3); # cut down (100,20,3) to (5,4,3), so it can be displayed directly"
   ]
  },
  {
   "cell_type": "code",
   "execution_count": 2,
   "id": "3a3037fe",
   "metadata": {},
   "outputs": [
    {
     "data": {
      "text/plain": [
       "543"
      ]
     },
     "execution_count": 2,
     "metadata": {},
     "output_type": "execute_result"
    }
   ],
   "source": [
    "dims($data);"
   ]
  },
  {
   "cell_type": "code",
   "execution_count": 3,
   "id": "4ce45629",
   "metadata": {},
   "outputs": [
    {
     "data": {
      "text/plain": [
       "543"
      ]
     },
     "execution_count": 3,
     "metadata": {},
     "output_type": "execute_result"
    }
   ],
   "source": [
    "($nx, $ny, $nz) = dims($data);"
   ]
  },
  {
   "cell_type": "markdown",
   "id": "0de1f86d",
   "metadata": {},
   "source": [
    "See also the **shape** function which returns the pdl shape as a pdl:"
   ]
  },
  {
   "cell_type": "code",
   "execution_count": 4,
   "id": "52beb114",
   "metadata": {},
   "outputs": [
    {
     "data": {
      "text/plain": [
       "[5 4 3]"
      ]
     },
     "execution_count": 4,
     "metadata": {},
     "output_type": "execute_result"
    }
   ],
   "source": [
    "$datashape = shape($data);"
   ]
  },
  {
   "cell_type": "markdown",
   "id": "40955a81",
   "metadata": {},
   "source": [
    "The number of elements in a piddle is equally easy:"
   ]
  },
  {
   "cell_type": "code",
   "execution_count": 5,
   "id": "baf71abc",
   "metadata": {},
   "outputs": [
    {
     "data": {
      "text/plain": [
       "60"
      ]
     },
     "execution_count": 5,
     "metadata": {},
     "output_type": "execute_result"
    }
   ],
   "source": [
    "nelem($data);"
   ]
  },
  {
   "cell_type": "markdown",
   "id": "196dfe8f",
   "metadata": {},
   "source": [
    "## The slice function - regular subsets along axes\n",
    "\n",
    "Earlier we saw how to extract a rectangular subset of a piddle: `$section = $gal(337:357,178:198)`; The piddle $gal was a 2D image, we used array syntax (compliments of **PDL::NiceSlice**) to extract a contiguous subset ranging from pixel 337 to 357 along the first dimension, and 178 through 198 along the second. Behind the scenes, this is implemented by the **slice** function.\n",
    "\n",
    ">**`$section = $gal->slice('337:357,178:198')`**;\n",
    "\n",
    "Use the on-line documentation:\n",
    ">**pdl> help slice**\n",
    "\n",
    "to explore the full set of options. slice is probably the most frequently used PDL function so we will explore it in some detail. But first we notice that slice is implemented via a named function.\n",
    "\n",
    "Through the magic of **PDL::NiceSlice** and source filtering you can access slice functionality in a form very similar to the vector array syntax found in many array computation languages such as FORTRAN-90 and MATLAB. The chief difference being that the argument to the slice method call is a string describing the elements to be selected. For the new **PDL::NiceSlice** syntax, you don't use the method or function call and the argument does not need to be wrapped up in a string.\n",
    "\n",
    "In this chapter, we will usually show the **PDL::NiceSlice** syntax but refer to the operation as a slice even though with the new syntax there is no longer an explicit slice method being called.\n",
    "\n",
    "## The basic slicing specification.\n",
    "\n",
    "The slicing argument syntax is just a list of ranges, the simplest if of the form A:B to specify the start and end pixels. This generalizes to arbitrary dimensions;"
   ]
  },
  {
   "cell_type": "code",
   "execution_count": 6,
   "id": "a5f15bd0",
   "metadata": {},
   "outputs": [
    {
     "data": {
      "text/plain": [
       "[0 0 0 0 0 0 0 0 0 0 0 0 0 0 0 0 0 0 0 0]"
      ]
     },
     "execution_count": 6,
     "metadata": {},
     "output_type": "execute_result"
    }
   ],
   "source": [
    "$data = zeroes(1000);\n",
    "$sec = $data->slice(\"0:19\"); # $sec = $data(0:20) not work in IPerl"
   ]
  },
  {
   "cell_type": "code",
   "execution_count": 7,
   "id": "06c8471b",
   "metadata": {},
   "outputs": [
    {
     "data": {
      "text/plain": [
       "\n",
       "[\n",
       " [\n",
       "  [0 0 0 0 0 0 0 0 0 0 0 0 0 0 0 0 0 0 0 0 0]\n",
       "  [0 0 0 0 0 0 0 0 0 0 0 0 0 0 0 0 0 0 0 0 0]\n",
       "  [0 0 0 0 0 0 0 0 0 0 0 0 0 0 0 0 0 0 0 0 0]\n",
       "  [0 0 0 0 0 0 0 0 0 0 0 0 0 0 0 0 0 0 0 0 0]\n",
       " ]\n",
       " [\n",
       "  [0 0 0 0 0 0 0 0 0 0 0 0 0 0 0 0 0 0 0 0 0]\n",
       "  [0 0 0 0 0 0 0 0 0 0 0 0 0 0 0 0 0 0 0 0 0]\n",
       "  [0 0 0 0 0 0 0 0 0 0 0 0 0 0 0 0 0 0 0 0 0]\n",
       "  [0 0 0 0 0 0 0 0 0 0 0 0 0 0 0 0 0 0 0 0 0]\n",
       " ]\n",
       " [\n",
       "  [0 0 0 0 0 0 0 0 0 0 0 0 0 0 0 0 0 0 0 0 0]\n",
       "  [0 0 0 0 0 0 0 0 0 0 0 0 0 0 0 0 0 0 0 0 0]\n",
       "  [0 0 0 0 0 0 0 0 0 0 0 0 0 0 0 0 0 0 0 0 0]\n",
       "  [0 0 0 0 0 0 0 0 0 0 0 0 0 0 0 0 0 0 0 0 0]\n",
       " ]\n",
       "]\n"
      ]
     },
     "execution_count": 7,
     "metadata": {},
     "output_type": "execute_result"
    }
   ],
   "source": [
    "$data = zeroes(100,100,20);\n",
    "$sec = $data->slice(\"0:20,57:60,1:3\"); # revised from $sec = $data(0:20,40:60,1:3);"
   ]
  },
  {
   "cell_type": "markdown",
   "id": "cf29abed",
   "metadata": {},
   "source": [
    "Note that PDL, just like Perl and C, uses **ZERO OFFSET** arrays. i.e. the first element is numbered 0, not 1. Just like Perl you can use **-N** to refer to the last elements:"
   ]
  },
  {
   "cell_type": "code",
   "execution_count": 8,
   "id": "4552b760",
   "metadata": {},
   "outputs": [
    {
     "data": {
      "text/plain": [
       "[0 0 0 0 0 0 0 0 0 0]"
      ]
     },
     "execution_count": 8,
     "metadata": {},
     "output_type": "execute_result"
    }
   ],
   "source": [
    "$data = zeroes(1000);\n",
    "$sec = $data->slice(\"-10:-1\"); # Elements 990 to 999 (last)"
   ]
  },
  {
   "cell_type": "markdown",
   "id": "eb154127",
   "metadata": {},
   "source": [
    "One can also specify a step in the slice using the form A:B:C where C is the step. Here is an example:"
   ]
  },
  {
   "cell_type": "code",
   "execution_count": 9,
   "id": "7d20e792",
   "metadata": {},
   "outputs": [
    {
     "data": {
      "text/plain": [
       "[0 1 2 3 4 5 6 7 8 9 10 11 12 13 14 15 16 17 18 19 20 21 22 23]"
      ]
     },
     "execution_count": 9,
     "metadata": {},
     "output_type": "execute_result"
    }
   ],
   "source": [
    "$x = sequence(24); # Create a piddle of increasing value"
   ]
  },
  {
   "cell_type": "code",
   "execution_count": 10,
   "id": "e2851a1d",
   "metadata": {},
   "outputs": [
    {
     "data": {
      "text/plain": [
       "[16 18 20 22]"
      ]
     },
     "execution_count": 10,
     "metadata": {},
     "output_type": "execute_result"
    }
   ],
   "source": [
    "$x->slice(\"16:22:2\");"
   ]
  },
  {
   "cell_type": "markdown",
   "id": "70edcf8f",
   "metadata": {},
   "source": [
    "Quite often one wants all the elements along many of the dimensions, one can just use \":\" or just omit the specifier altogether:"
   ]
  },
  {
   "cell_type": "code",
   "execution_count": 11,
   "id": "1cdbcd7c",
   "metadata": {},
   "outputs": [
    {
     "data": {
      "text/plain": [
       "1063"
      ]
     },
     "execution_count": 11,
     "metadata": {},
     "output_type": "execute_result"
    }
   ],
   "source": [
    "$a = zeroes(10,20,3);\n",
    "dims $a->slice(\":,5:10,:\");"
   ]
  },
  {
   "cell_type": "code",
   "execution_count": 12,
   "id": "65559d64",
   "metadata": {},
   "outputs": [
    {
     "data": {
      "text/plain": [
       "1063"
      ]
     },
     "execution_count": 12,
     "metadata": {},
     "output_type": "execute_result"
    }
   ],
   "source": [
    "dims $a->slice(\",5:10,\");"
   ]
  },
  {
   "cell_type": "markdown",
   "id": "1b1d61bc",
   "metadata": {},
   "source": [
    "Omitting the range allows specification of just one index along the dimension:"
   ]
  },
  {
   "cell_type": "code",
   "execution_count": 13,
   "id": "a4c07f2f",
   "metadata": {},
   "outputs": [
    {
     "data": {
      "text/plain": [
       "\n",
       "[\n",
       " [0 0 0 0 0 0 0 0 0 0 0 0 0 0 0]\n",
       " [0 0 0 0 0 0 0 0 0 0 0 0 0 0 0]\n",
       " [0 0 0 0 0 0 0 0 0 0 0 0 0 0 0]\n",
       " [0 0 0 0 0 0 0 0 0 0 0 0 0 0 0]\n",
       " [0 0 0 0 0 0 0 0 0 0 0 0 0 0 0]\n",
       " [0 0 0 0 0 0 0 0 0 0 0 0 0 0 0]\n",
       " [0 0 0 0 0 0 0 0 0 0 0 0 0 0 0]\n",
       " [0 0 0 0 0 0 0 0 0 0 0 0 0 0 0]\n",
       " [0 0 0 0 0 0 0 0 0 0 0 0 0 0 0]\n",
       " [0 0 0 0 0 0 0 0 0 0 0 0 0 0 0]\n",
       " [0 0 0 0 0 0 0 0 0 0 0 0 0 0 0]\n",
       " [0 0 0 0 0 0 0 0 0 0 0 0 0 0 0]\n",
       " [0 0 0 0 0 0 0 0 0 0 0 0 0 0 0]\n",
       " [0 0 0 0 0 0 0 0 0 0 0 0 0 0 0]\n",
       " [0 0 0 0 0 0 0 0 0 0 0 0 0 0 0]\n",
       " [0 0 0 0 0 0 0 0 0 0 0 0 0 0 0]\n",
       " [0 0 0 0 0 0 0 0 0 0 0 0 0 0 0]\n",
       " [0 0 0 0 0 0 0 0 0 0 0 0 0 0 0]\n",
       " [0 0 0 0 0 0 0 0 0 0 0 0 0 0 0]\n",
       " [0 0 0 0 0 0 0 0 0 0 0 0 0 0 0]\n",
       "]\n"
      ]
     },
     "execution_count": 13,
     "metadata": {},
     "output_type": "execute_result"
    }
   ],
   "source": [
    "$z = zeroes 15,20; # cut 100,200 down to display better"
   ]
  },
  {
   "cell_type": "code",
   "execution_count": 14,
   "id": "364e9b0f",
   "metadata": {},
   "outputs": [
    {
     "data": {
      "text/plain": [
       "\n",
       "[\n",
       " [0]\n",
       " [0]\n",
       " [0]\n",
       " [0]\n",
       " [0]\n",
       " [0]\n",
       " [0]\n",
       " [0]\n",
       " [0]\n",
       " [0]\n",
       " [0]\n",
       " [0]\n",
       " [0]\n",
       " [0]\n",
       " [0]\n",
       " [0]\n",
       " [0]\n",
       " [0]\n",
       " [0]\n",
       " [0]\n",
       "]\n"
      ]
     },
     "execution_count": 14,
     "metadata": {},
     "output_type": "execute_result"
    }
   ],
   "source": [
    "$col = $z->slice(\"12,:\"); # Column 12 (Dims = 1x20)"
   ]
  },
  {
   "cell_type": "code",
   "execution_count": 15,
   "id": "9bba661a",
   "metadata": {},
   "outputs": [
    {
     "data": {
      "text/plain": [
       "\n",
       "[\n",
       " [0 0 0 0 0 0 0 0 0 0 0 0 0 0 0]\n",
       "]\n"
      ]
     },
     "execution_count": 15,
     "metadata": {},
     "output_type": "execute_result"
    }
   ],
   "source": [
    "$row = $z->slice(\":,12\"); # Row 12 (Dims = 15x1)"
   ]
  },
  {
   "cell_type": "markdown",
   "id": "73998018",
   "metadata": {},
   "source": [
    "You also can use perl scalars to construct the slicing specifications:"
   ]
  },
  {
   "cell_type": "code",
   "execution_count": 16,
   "id": "5cf3523b",
   "metadata": {},
   "outputs": [
    {
     "data": {
      "text/plain": [
       "[0 0 0 0 0 0 0 0 0 0 0 0 0 0 0 0 0 0 0 0 0 0 0 0 0 0 0 0 0 0 0 0 0 0 0 0 0 0 0 0 0]"
      ]
     },
     "execution_count": 16,
     "metadata": {},
     "output_type": "execute_result"
    }
   ],
   "source": [
    "$x1 = 2; $x2 = 42;\n",
    "$sec = $data->slice(\"$x1:$x2\");"
   ]
  },
  {
   "cell_type": "markdown",
   "id": "f571b599",
   "metadata": {},
   "source": [
    "## Modifying slices.\n",
    "\n",
    "Here's the biggy:"
   ]
  },
  {
   "cell_type": "code",
   "execution_count": 17,
   "id": "799de967",
   "metadata": {},
   "outputs": [
    {
     "data": {
      "text/plain": [
       "[0 1 2 3 4 5 6 7 8 9 10 11 12 13 14 15 16 17 18 19 20 21 22 23]"
      ]
     },
     "execution_count": 17,
     "metadata": {},
     "output_type": "execute_result"
    }
   ],
   "source": [
    "$x = sequence(24);"
   ]
  },
  {
   "cell_type": "code",
   "execution_count": 18,
   "id": "6f9ef7f9",
   "metadata": {},
   "outputs": [
    {
     "data": {
      "text/plain": [
       "[4 6 8 10 12 14 16 18 20]"
      ]
     },
     "execution_count": 18,
     "metadata": {},
     "output_type": "execute_result"
    }
   ],
   "source": [
    "$slice = $x->slice(\"4:20:2\");"
   ]
  },
  {
   "cell_type": "markdown",
   "id": "d4528a1a",
   "metadata": {},
   "source": [
    "All very well. But now we modify the slice using the assignment operator."
   ]
  },
  {
   "cell_type": "code",
   "execution_count": 19,
   "id": "82125d9c",
   "metadata": {},
   "outputs": [
    {
     "data": {
      "text/plain": [
       "[0 0 0 0 0 0 0 0 0]"
      ]
     },
     "execution_count": 19,
     "metadata": {},
     "output_type": "execute_result"
    }
   ],
   "source": [
    "$slice .= 0;"
   ]
  },
  {
   "cell_type": "code",
   "execution_count": 20,
   "id": "b0eb33fe",
   "metadata": {},
   "outputs": [
    {
     "data": {
      "text/plain": [
       "[0 1 2 3 0 5 0 7 0 9 0 11 0 13 0 15 0 17 0 19 0 21 22 23]"
      ]
     },
     "execution_count": 20,
     "metadata": {},
     "output_type": "execute_result"
    }
   ],
   "source": [
    "$x;"
   ]
  },
  {
   "cell_type": "markdown",
   "id": "bff9b29a",
   "metadata": {},
   "source": [
    "Modifying the slice automatically modifies the original data! However it is done ( **$slice++** etc. work just as well).\n",
    "\n",
    "All the PDL slicing and dicing functions work this way, from the simplest rectangular slices to the most complex conditional slices. This is because they use a fundamental PDL feature known as **dataflow**.\n",
    "\n",
    "## Does a slice consume memory?\n",
    "\n",
    "What if we have a big array and make a slice of most of it:"
   ]
  },
  {
   "cell_type": "code",
   "execution_count": 21,
   "id": "08ca5688",
   "metadata": {},
   "outputs": [
    {
     "data": {
      "text/plain": [
       "TOO LONG TO PRINT"
      ]
     },
     "execution_count": 21,
     "metadata": {},
     "output_type": "execute_result"
    }
   ],
   "source": [
    "$x = zeroes (2000,2000);\n",
    "$slice = $x->slice(\"10:1990,10:1990\");\n",
    "$slice++;"
   ]
  },
  {
   "cell_type": "markdown",
   "id": "7c81f5a7",
   "metadata": {},
   "source": [
    "If you monitor the memory consumed by the PDL process on your computer (UNIX/Linux users can try the **top** command) you will see that the amount of memory consumed does not go up - **even when the slice is modified**. This is because the way PDL is written allows many of the simple operations on slices to be optimized - i.e. a temporary internal copy of the slice need not be made. Of course sometimes - for example when passing to an external subroutine - this optimization is not possible. But the book-keeping of propagating the changes back to the original piddle is handled automatically.\n",
    "\n",
    "## Advanced slice syntax\n",
    "**slice** has some advanced syntactical features which allow dimensions to be inserted or removed (this comes in quite useful when passing 2D arrays to functions expecting 1D arguments and vice versa, this comes in extremely useful when using PDL's advanced threading features (see PDL **threading** and the signature later).\n",
    "\n",
    "**If a dimension is of size unity it can be removed using ()**:"
   ]
  },
  {
   "cell_type": "code",
   "execution_count": 22,
   "id": "1406ea94",
   "metadata": {},
   "outputs": [
    {
     "data": {
      "text/plain": [
       "\n",
       "[\n",
       " [0 0 0 0 0 0 0 0 0 0]\n",
       " [0 0 0 0 0 0 0 0 0 0]\n",
       " [0 0 0 0 0 0 0 0 0 0]\n",
       " [0 0 0 0 0 0 0 0 0 0]\n",
       " [0 0 0 0 0 0 0 0 0 0]\n",
       "]\n"
      ]
     },
     "execution_count": 22,
     "metadata": {},
     "output_type": "execute_result"
    }
   ],
   "source": [
    "$z = zeroes 10,5; # cut 100,30 down to display better"
   ]
  },
  {
   "cell_type": "code",
   "execution_count": 23,
   "id": "e5986359",
   "metadata": {},
   "outputs": [
    {
     "data": {
      "text/plain": [
       "\n",
       "[\n",
       " [0]\n",
       " [0]\n",
       " [0]\n",
       " [0]\n",
       " [0]\n",
       "]\n"
      ]
     },
     "execution_count": 23,
     "metadata": {},
     "output_type": "execute_result"
    }
   ],
   "source": [
    "$col = $z->slice(\"8,:\"); # Column 8 - 2D (Dims = 1x5)"
   ]
  },
  {
   "cell_type": "code",
   "execution_count": 24,
   "id": "ddd7a282",
   "metadata": {},
   "outputs": [
    {
     "data": {
      "text/plain": [
       "[0 0 0 0 0]"
      ]
     },
     "execution_count": 24,
     "metadata": {},
     "output_type": "execute_result"
    }
   ],
   "source": [
    "$col = $z->slice(\"(8),:\"); # Column 8 - 1D (Dims = 5)"
   ]
  },
  {
   "cell_type": "markdown",
   "id": "4d5605b5",
   "metadata": {},
   "source": [
    "**And then one can put them back again using \"*\":**"
   ]
  },
  {
   "cell_type": "code",
   "execution_count": 25,
   "id": "e8329a04",
   "metadata": {},
   "outputs": [
    {
     "data": {
      "text/plain": [
       "\n",
       "[\n",
       " [\n",
       "  [0]\n",
       "  [0]\n",
       "  [0]\n",
       "  [0]\n",
       "  [0]\n",
       " ]\n",
       "]\n"
      ]
     },
     "execution_count": 25,
     "metadata": {},
     "output_type": "execute_result"
    }
   ],
   "source": [
    "$col2 = $col->slice(\"*,:,*\"); # Dims now = 1x5x1"
   ]
  },
  {
   "cell_type": "markdown",
   "id": "40f36c7c",
   "metadata": {},
   "source": [
    "This can even be used to insert more than one element along the dimension:"
   ]
  },
  {
   "cell_type": "code",
   "execution_count": 26,
   "id": "8bc5d72f",
   "metadata": {},
   "outputs": [
    {
     "data": {
      "text/plain": [
       "\n",
       "[\n",
       " [\n",
       "  [0 0 0 0 0 0 0 0 0 0]\n",
       "  [0 0 0 0 0 0 0 0 0 0]\n",
       "  [0 0 0 0 0 0 0 0 0 0]\n",
       " ]\n",
       " [\n",
       "  [0 0 0 0 0 0 0 0 0 0]\n",
       "  [0 0 0 0 0 0 0 0 0 0]\n",
       "  [0 0 0 0 0 0 0 0 0 0]\n",
       " ]\n",
       " [\n",
       "  [0 0 0 0 0 0 0 0 0 0]\n",
       "  [0 0 0 0 0 0 0 0 0 0]\n",
       "  [0 0 0 0 0 0 0 0 0 0]\n",
       " ]\n",
       " [\n",
       "  [0 0 0 0 0 0 0 0 0 0]\n",
       "  [0 0 0 0 0 0 0 0 0 0]\n",
       "  [0 0 0 0 0 0 0 0 0 0]\n",
       " ]\n",
       " [\n",
       "  [0 0 0 0 0 0 0 0 0 0]\n",
       "  [0 0 0 0 0 0 0 0 0 0]\n",
       "  [0 0 0 0 0 0 0 0 0 0]\n",
       " ]\n",
       "]\n"
      ]
     },
     "execution_count": 26,
     "metadata": {},
     "output_type": "execute_result"
    }
   ],
   "source": [
    "$t = $z->slice(\":,*3,:\"); # Dims now 10x3x5"
   ]
  },
  {
   "cell_type": "markdown",
   "id": "e847797e",
   "metadata": {},
   "source": [
    "This sort of thing is very useful for advanced threading trickery.\n",
    "\n",
    "## PDL's Method notation\n",
    "\n",
    "At this point we would like to introduce the varied notations for calling **slice** and it's friends. This is\n",
    "because it will be commonly seen in PDL code and is very handy. While at first unfamiliar to C and FORTRAN users it is not rocket science, PDL users will quickly become used to it.\n",
    "\n",
    "As we mentioned in Chapter 2 piddles are implemented as Perl objects. Objects can have their own personal functions, known as methods. The difference between a method and a function is that a method can only be used on the class of object it belongs too. And methods have a new notation for calling them. This means names (which can get in short supply) can be re-used for different objects.\n",
    "\n",
    "Many of PDL's functions are available as methods too, in fact once you started using the more advanced features you will find that many of them are only available as methods. (PDL by default defines a lot of functions, which while useful do clutter Perl's namespace, at some point we had to stop!).\n",
    "\n",
    "For example here are 3 different ways of calling **slice**:\n",
    "\n",
    ">`$t = slice($z,\":,*3,:\")`; # Function call (old style)<br />\n",
    "`$t = slice $z,\":,*3,:\"`; # Function call (old style)<br />\n",
    "`$t = $z->slice(\":,*3,:\")`; # Method call (old style)<br />\n",
    "`$t = $z(:,*3,:)`; # Vector syntax (NiceSlice style)<br />\n",
    "`$t = $z->(:,*3,:)`; # Method call (NiceSlice style)\n",
    "\n",
    "The **PDL::NiceSlice** style vector syntax is the most concise and readable. The method call syntax (either old style or PDL::NiceSlice style) is also readable. You may need to understand the original slicing syntax to understand legacy PDL codes and for the cases where **PDL::NiceSlice** syntax can not or is not used. See the on-line docs for **PDL::NiceSlice** for details."
   ]
  },
  {
   "cell_type": "markdown",
   "id": "14705581",
   "metadata": {},
   "source": [
    "## The dice and dice_axis functions - irregular subsets along axes\n",
    "\n",
    "As well as take regular slices along axes via the **slice** function, another common requirement is to take **irregular slices**, by which we mean a list of arbitrary coordinates. This operation is referred to in PDL as **dicing** a piddle.\n",
    "\n",
    "The **dice_axis** function performs a dice along a specified axis:"
   ]
  },
  {
   "cell_type": "code",
   "execution_count": 27,
   "id": "99c8964b",
   "metadata": {},
   "outputs": [
    {
     "data": {
      "text/plain": [
       "\n",
       "[\n",
       " [ 0  1  2  3  4  5  6  7  8]\n",
       " [ 9 10 11 12 13 14 15 16 17]\n",
       " [18 19 20 21 22 23 24 25 26]\n",
       " [27 28 29 30 31 32 33 34 35]\n",
       " [36 37 38 39 40 41 42 43 44]\n",
       " [45 46 47 48 49 50 51 52 53]\n",
       " [54 55 56 57 58 59 60 61 62]\n",
       " [63 64 65 66 67 68 69 70 71]\n",
       " [72 73 74 75 76 77 78 79 80]\n",
       "]\n"
      ]
     },
     "execution_count": 27,
     "metadata": {},
     "output_type": "execute_result"
    }
   ],
   "source": [
    "$a = sequence(9,9); # cut 10,20 down to display better"
   ]
  },
  {
   "cell_type": "code",
   "execution_count": 28,
   "id": "b3419f8b",
   "metadata": {},
   "outputs": [
    {
     "data": {
      "text/plain": [
       "\n",
       "[\n",
       " [ 2  5  8]\n",
       " [11 14 17]\n",
       " [20 23 26]\n",
       " [29 32 35]\n",
       " [38 41 44]\n",
       " [47 50 53]\n",
       " [56 59 62]\n",
       " [65 68 71]\n",
       " [74 77 80]\n",
       "]\n"
      ]
     },
     "execution_count": 28,
     "metadata": {},
     "output_type": "execute_result"
    }
   ],
   "source": [
    "$b = dice_axis $a, 0, [2,5,8]; # Dice along axis 0"
   ]
  },
  {
   "cell_type": "code",
   "execution_count": 29,
   "id": "74fc8267",
   "metadata": {},
   "outputs": [
    {
     "data": {
      "text/plain": [
       "\n",
       "[\n",
       " [42 42 42]\n",
       " [42 42 42]\n",
       " [42 42 42]\n",
       " [42 42 42]\n",
       " [42 42 42]\n",
       " [42 42 42]\n",
       " [42 42 42]\n",
       " [42 42 42]\n",
       " [42 42 42]\n",
       "]\n"
      ]
     },
     "execution_count": 29,
     "metadata": {},
     "output_type": "execute_result"
    }
   ],
   "source": [
    "$b .= 42; # Alters columns [2,5,8];"
   ]
  },
  {
   "cell_type": "markdown",
   "id": "7ccdeb99",
   "metadata": {},
   "source": [
    "**For a 2D piddle dicing along axis 0 selects columns, dicing along axis 1 selects rows**. In general in N-dimensions dicing along a given axis reduces the number of elements along that axis, but the number of dimensions remains unchanged. The **dice** function allows all axes to be specified at once:"
   ]
  },
  {
   "cell_type": "code",
   "execution_count": 30,
   "id": "e5978624",
   "metadata": {},
   "outputs": [
    {
     "data": {
      "text/plain": [
       "338"
      ]
     },
     "execution_count": 30,
     "metadata": {},
     "output_type": "execute_result"
    }
   ],
   "source": [
    "$z = zeroes 10,20,50;\n",
    "dims dice $z,[2,3,5],[10,11,12],[30..35,39,40];"
   ]
  },
  {
   "cell_type": "markdown",
   "id": "6fa6aa8c",
   "metadata": {},
   "source": [
    "The list of axes in the dice can be specified using Perl's \"[ ]\" list reference notation or using a 1D piddle:"
   ]
  },
  {
   "cell_type": "code",
   "execution_count": 31,
   "id": "ca648769",
   "metadata": {},
   "outputs": [
    {
     "data": {
      "text/plain": [
       "\n",
       "[\n",
       " [  7   6   4   3   9   7   6   0   1   9]\n",
       " [ 17  16  14  13  19  17  16  10  11  19]\n",
       " [ 27  26  24  23  29  27  26  20  21  29]\n",
       " [ 37  36  34  33  39  37  36  30  31  39]\n",
       " [ 47  46  44  43  49  47  46  40  41  49]\n",
       " [ 57  56  54  53  59  57  56  50  51  59]\n",
       " [ 67  66  64  63  69  67  66  60  61  69]\n",
       " [ 77  76  74  73  79  77  76  70  71  79]\n",
       " [ 87  86  84  83  89  87  86  80  81  89]\n",
       " [ 97  96  94  93  99  97  96  90  91  99]\n",
       " [107 106 104 103 109 107 106 100 101 109]\n",
       " [117 116 114 113 119 117 116 110 111 119]\n",
       " [127 126 124 123 129 127 126 120 121 129]\n",
       " [137 136 134 133 139 137 136 130 131 139]\n",
       " [147 146 144 143 149 147 146 140 141 149]\n",
       " [157 156 154 153 159 157 156 150 151 159]\n",
       " [167 166 164 163 169 167 166 160 161 169]\n",
       " [177 176 174 173 179 177 176 170 171 179]\n",
       " [187 186 184 183 189 187 186 180 181 189]\n",
       " [197 196 194 193 199 197 196 190 191 199]\n",
       "]\n"
      ]
     },
     "execution_count": 31,
     "metadata": {},
     "output_type": "execute_result"
    }
   ],
   "source": [
    "$z = sequence 10,20;\n",
    "$dice = long(random(10)*10); # Select random columns\n",
    "$sel = $z->dice_axis(0,$dice);"
   ]
  },
  {
   "cell_type": "markdown",
   "id": "06f3cbda",
   "metadata": {},
   "source": [
    "## Using mv, xchg and reorder - transposing dimensions\n",
    "\n",
    "We saw earlier how arguments to **slice** can be used to add and remove dimensions. More sophisticated tricks can be performed with a whole suite of PDL methods.\n",
    "\n",
    "**xchg** simply swaps two dimensions:"
   ]
  },
  {
   "cell_type": "code",
   "execution_count": 32,
   "id": "843728d7",
   "metadata": {},
   "outputs": [
    {
     "data": {
      "text/plain": [
       "\n",
       "[\n",
       " [0 0 0]\n",
       " [0 0 0]\n",
       " [0 0 0]\n",
       " [0 0 0]\n",
       "]\n"
      ]
     },
     "execution_count": 32,
     "metadata": {},
     "output_type": "execute_result"
    }
   ],
   "source": [
    "$z = zeroes(3,4);"
   ]
  },
  {
   "cell_type": "code",
   "execution_count": 33,
   "id": "14f1572f",
   "metadata": {},
   "outputs": [
    {
     "data": {
      "text/plain": [
       "\n",
       "[\n",
       " [0 0 0 0]\n",
       " [0 0 0 0]\n",
       " [0 0 0 0]\n",
       "]\n"
      ]
     },
     "execution_count": 33,
     "metadata": {},
     "output_type": "execute_result"
    }
   ],
   "source": [
    "$t = $z->xchg(0,1); # Axes 0 and 1 swapped, dims now = 4,3"
   ]
  },
  {
   "cell_type": "markdown",
   "id": "64d57070",
   "metadata": {},
   "source": [
    "This is a simple matrix transpose. The method **`$z->transpose`** also does this, though it also makes a copy (i.e. return a new piddle) not a slice and can operate on 1D piddles (i.e. convert a row vector into a column vector). Sometimes this is what you want. **xchg** works like **slice** and **dice** - changes affect the original. Also **xchg** generalizes to N-dimensions:"
   ]
  },
  {
   "cell_type": "code",
   "execution_count": 34,
   "id": "2691967d",
   "metadata": {},
   "outputs": [
    {
     "data": {
      "text/plain": [
       "36547"
      ]
     },
     "execution_count": 34,
     "metadata": {},
     "output_type": "execute_result"
    }
   ],
   "source": [
    "$z = zeroes(3,4,5,6,7);\n",
    "$t = $z->xchg(1,3); # Dims now 3,6,5,4,7\n",
    "dims $t;"
   ]
  },
  {
   "cell_type": "markdown",
   "id": "554adb38",
   "metadata": {},
   "source": [
    "A different way of switching dimensions around is provided by **`$z-mv(A,B)`** which just moves the axis A to position B :"
   ]
  },
  {
   "cell_type": "code",
   "execution_count": 35,
   "id": "f46fe6a3",
   "metadata": {},
   "outputs": [
    {
     "data": {
      "text/plain": [
       "35647"
      ]
     },
     "execution_count": 35,
     "metadata": {},
     "output_type": "execute_result"
    }
   ],
   "source": [
    "$z = zeroes(3,4,5,6,7);\n",
    "$t = $z->mv(1,3); # Dims now 3,5,6,4,7\n",
    "dims $t;"
   ]
  },
  {
   "cell_type": "markdown",
   "id": "e1a395be",
   "metadata": {},
   "source": [
    "Finally one can completely re-order dimensions:"
   ]
  },
  {
   "cell_type": "code",
   "execution_count": 36,
   "id": "242e426f",
   "metadata": {},
   "outputs": [
    {
     "data": {
      "text/plain": [
       "76354"
      ]
     },
     "execution_count": 36,
     "metadata": {},
     "output_type": "execute_result"
    }
   ],
   "source": [
    "$z = zeroes(3,4,5,6,7);\n",
    "$t = $z->reorder(4,3,0,2,1); # Dims now 7,6,3,5,4\n",
    "dims $t;"
   ]
  },
  {
   "cell_type": "markdown",
   "id": "79bcf37f",
   "metadata": {},
   "source": [
    "Note **reorder** is our first example of a pure PDL method - it does not exist as a function and can only be called using the `$z->reorder(...)` syntax.\n",
    "\n",
    "## Combining dimensions with clump\n",
    "\n",
    "We've now seen a whole slew of functions for changing the ordering of dimensions. It is now time to look at some more complicated operations. The first of these is something we have already seen in Chapter 2. This is the **clump** function for combining dimensions together. Suppose we have a 3-D datacube piddle:"
   ]
  },
  {
   "cell_type": "code",
   "execution_count": 37,
   "id": "a1776bb4",
   "metadata": {},
   "outputs": [
    {
     "data": {
      "text/plain": [
       "\n",
       "[\n",
       " [\n",
       "  [0 1 2 3 4]\n",
       "  [0 1 2 3 4]\n",
       "  [0 1 2 3 4]\n",
       " ]\n",
       " [\n",
       "  [0 1 2 3 4]\n",
       "  [0 1 2 3 4]\n",
       "  [0 1 2 3 4]\n",
       " ]\n",
       "]\n"
      ]
     },
     "execution_count": 37,
     "metadata": {},
     "output_type": "execute_result"
    }
   ],
   "source": [
    "$a = xvals(5,3,2);"
   ]
  },
  {
   "cell_type": "markdown",
   "id": "d67cae03",
   "metadata": {},
   "source": [
    "We have seen before we can apply a 1-D function like **sumover** to the rows - and using dimension manipulating functions to any of the axes.\n",
    "\n",
    "But say we wanted to sum over the first TWO dimensions? i.e. replace our datacube with a 1-D vector containing the sums of each plane. What we need to do is to \"clump\" the first two dimensions together to make one dimension, and then use **sumover**. Surprisingly enough this is what **clump** does:"
   ]
  },
  {
   "cell_type": "code",
   "execution_count": 38,
   "id": "28e425b5",
   "metadata": {},
   "outputs": [
    {
     "data": {
      "text/plain": [
       "\n",
       "[\n",
       " [0 1 2 3 4 0 1 2 3 4 0 1 2 3 4]\n",
       " [0 1 2 3 4 0 1 2 3 4 0 1 2 3 4]\n",
       "]\n"
      ]
     },
     "execution_count": 38,
     "metadata": {},
     "output_type": "execute_result"
    }
   ],
   "source": [
    "$b = $a->clump(2); # Clump first two dimensions together"
   ]
  },
  {
   "cell_type": "code",
   "execution_count": 39,
   "id": "3e4d10a7",
   "metadata": {},
   "outputs": [
    {
     "data": {
      "text/plain": [
       "[30 30]"
      ]
     },
     "execution_count": 39,
     "metadata": {},
     "output_type": "execute_result"
    }
   ],
   "source": [
    "$c = sumover $b;"
   ]
  },
  {
   "cell_type": "markdown",
   "id": "f6d67893",
   "metadata": {},
   "source": [
    "Now we know about **mv** it is also easy to sum over the last two dimensions:"
   ]
  },
  {
   "cell_type": "code",
   "execution_count": 40,
   "id": "54c4f7d9",
   "metadata": {},
   "outputs": [
    {
     "data": {
      "text/plain": [
       "[0 6 12 18 24]"
      ]
     },
     "execution_count": 40,
     "metadata": {},
     "output_type": "execute_result"
    }
   ],
   "source": [
    "sumover $a->mv(0,2)->clump(2); # 3, 2, 5"
   ]
  },
  {
   "cell_type": "markdown",
   "id": "2ab410ac",
   "metadata": {},
   "source": [
    "It is also possible using the special form **clump(-1)** to clump **all** the dimensions together:"
   ]
  },
  {
   "cell_type": "code",
   "execution_count": 41,
   "id": "90d7cd06",
   "metadata": {},
   "outputs": [
    {
     "data": {
      "text/plain": [
       "TOO LONG TO PRINT"
      ]
     },
     "execution_count": 41,
     "metadata": {},
     "output_type": "execute_result"
    }
   ],
   "source": [
    "$x = sequence(10,20,30,40);"
   ]
  },
  {
   "cell_type": "code",
   "execution_count": 42,
   "id": "de4ef829",
   "metadata": {},
   "outputs": [
    {
     "data": {
      "text/plain": [
       "240000"
      ]
     },
     "execution_count": 42,
     "metadata": {},
     "output_type": "execute_result"
    }
   ],
   "source": [
    "dims $x->clump(-1);"
   ]
  },
  {
   "cell_type": "code",
   "execution_count": 43,
   "id": "01305204",
   "metadata": {},
   "outputs": [
    {
     "data": {
      "text/plain": [
       "28799880000"
      ]
     },
     "execution_count": 43,
     "metadata": {},
     "output_type": "execute_result"
    }
   ],
   "source": [
    "sumover $x->clump(-1); # Same as sum($x)"
   ]
  },
  {
   "cell_type": "markdown",
   "id": "46915811",
   "metadata": {},
   "source": [
    "Uncannily this is almost exactly how the **sum** function is implemented in PDL.\n",
    "\n",
    "## Adding dimensions with dummy\n",
    "\n",
    "After our first look at threading in Chapter 3 we know how to add a vector to rows of an image:"
   ]
  },
  {
   "cell_type": "code",
   "execution_count": 44,
   "id": "be970e49",
   "metadata": {},
   "outputs": [
    {
     "data": {
      "text/plain": [
       "\n",
       "[\n",
       " [1 0 0]\n",
       " [1 1 0]\n",
       " [1 1 1]\n",
       "]\n"
      ]
     },
     "execution_count": 44,
     "metadata": {},
     "output_type": "execute_result"
    }
   ],
   "source": [
    "$a = pdl([1,0,0],[1,1,0],[1,1,1]);"
   ]
  },
  {
   "cell_type": "code",
   "execution_count": 45,
   "id": "7d4460c3",
   "metadata": {},
   "outputs": [
    {
     "data": {
      "text/plain": [
       "[1 2 3]"
      ]
     },
     "execution_count": 45,
     "metadata": {},
     "output_type": "execute_result"
    }
   ],
   "source": [
    "$b = pdl(1,2,3);"
   ]
  },
  {
   "cell_type": "code",
   "execution_count": 46,
   "id": "d77c492a",
   "metadata": {},
   "outputs": [
    {
     "data": {
      "text/plain": [
       "\n",
       "[\n",
       " [2 2 3]\n",
       " [2 3 3]\n",
       " [2 3 4]\n",
       "]\n"
      ]
     },
     "execution_count": 46,
     "metadata": {},
     "output_type": "execute_result"
    }
   ],
   "source": [
    "$a+$b;"
   ]
  },
  {
   "cell_type": "markdown",
   "id": "6aab088a",
   "metadata": {},
   "source": [
    "But say we wanted to add the vector to the columns. You might think to transpose $a :"
   ]
  },
  {
   "cell_type": "code",
   "execution_count": 47,
   "id": "117cf28a",
   "metadata": {},
   "outputs": [
    {
     "data": {
      "text/plain": [
       "\n",
       "[\n",
       " [2 3 4]\n",
       " [1 3 4]\n",
       " [1 2 4]\n",
       "]\n"
      ]
     },
     "execution_count": 47,
     "metadata": {},
     "output_type": "execute_result"
    }
   ],
   "source": [
    "$a->xchg(0,1)+$b;"
   ]
  },
  {
   "cell_type": "markdown",
   "id": "c746b31e",
   "metadata": {},
   "source": [
    "But the result is the transpose of the desired result. We could of course just transpose the result but a cleaner method is to use **dummy** to change the dimensions of $b :"
   ]
  },
  {
   "cell_type": "code",
   "execution_count": 48,
   "id": "f3aa185b",
   "metadata": {},
   "outputs": [
    {
     "data": {
      "text/plain": [
       "\n",
       "[\n",
       " [1]\n",
       " [2]\n",
       " [3]\n",
       "]\n"
      ]
     },
     "execution_count": 48,
     "metadata": {},
     "output_type": "execute_result"
    }
   ],
   "source": [
    "$b->dummy(0); # Result has dims 1x3"
   ]
  },
  {
   "cell_type": "markdown",
   "id": "8cf23414",
   "metadata": {},
   "source": [
    "**dummy** just inserts a \"dummy dimension\" of size unity at the specified place. **dummy(0)** put's it at position 0 - i.e. the first dimension. The result is a column vector. Then we easily get what we want:"
   ]
  },
  {
   "cell_type": "code",
   "execution_count": 49,
   "id": "9235f772",
   "metadata": {},
   "outputs": [
    {
     "data": {
      "text/plain": [
       "\n",
       "[\n",
       " [2 1 1]\n",
       " [3 3 2]\n",
       " [4 4 4]\n",
       "]\n"
      ]
     },
     "execution_count": 49,
     "metadata": {},
     "output_type": "execute_result"
    }
   ],
   "source": [
    "$a + $b->dummy(0);"
   ]
  },
  {
   "cell_type": "markdown",
   "id": "11ae343d",
   "metadata": {},
   "source": [
    "Because of the threading rules the unit dimension makes `$b` implicitly repeat along axis 0. i.e. it is as if **`$b->dummy(0)`** looked like:\n",
    "\n",
    "[<br />\n",
    "&emsp;[1&ensp;1&ensp;1]<br />\n",
    "&emsp;[2&ensp;2&ensp;2]<br />\n",
    "&emsp;[3&ensp;3&ensp;3]<br />\n",
    "]\n",
    "\n",
    "**dummy** can also be used to insert a dimension of size >1 with the data **explicitly** repeating:"
   ]
  },
  {
   "cell_type": "code",
   "execution_count": 50,
   "id": "1293770a",
   "metadata": {},
   "outputs": [
    {
     "data": {
      "text/plain": [
       "103"
      ]
     },
     "execution_count": 50,
     "metadata": {},
     "output_type": "execute_result"
    }
   ],
   "source": [
    "dims $b->dummy(0,10);"
   ]
  },
  {
   "cell_type": "code",
   "execution_count": 51,
   "id": "1a2cd2cf",
   "metadata": {},
   "outputs": [
    {
     "data": {
      "text/plain": [
       "\n",
       "[\n",
       " [1 1 1 1 1 1 1 1 1 1]\n",
       " [2 2 2 2 2 2 2 2 2 2]\n",
       " [3 3 3 3 3 3 3 3 3 3]\n",
       "]\n"
      ]
     },
     "execution_count": 51,
     "metadata": {},
     "output_type": "execute_result"
    }
   ],
   "source": [
    "$b->dummy(0,10);"
   ]
  },
  {
   "cell_type": "markdown",
   "id": "b61ecafb",
   "metadata": {},
   "source": [
    "## Completely general subsets of data with index , which and where\n",
    "\n",
    "Our look at advanced slicing concludes with a look at completely general subsets, specified using arbitrary conditions.\n",
    "\n",
    "Let's make a piddle of real numbers from 0 to 1:"
   ]
  },
  {
   "cell_type": "code",
   "execution_count": 52,
   "id": "db6fa83d",
   "metadata": {},
   "outputs": [
    {
     "data": {
      "text/plain": [
       "[0 0.1 0.2 0.3 0.4 0.5 0.6 0.7 0.8 0.9]"
      ]
     },
     "execution_count": 52,
     "metadata": {},
     "output_type": "execute_result"
    }
   ],
   "source": [
    "$a = sequence(10)/10;"
   ]
  },
  {
   "cell_type": "markdown",
   "id": "d8e50b56",
   "metadata": {},
   "source": [
    "We can make a conditional array whose values are 1 where a condition is true using standard PDL operators. For example for numbers below 0.2 and above 0.9:"
   ]
  },
  {
   "cell_type": "code",
   "execution_count": 53,
   "id": "f3f5feeb",
   "metadata": {},
   "outputs": [
    {
     "data": {
      "text/plain": [
       "[1 1 1 0 0 0 0 0 0 1]"
      ]
     },
     "execution_count": 53,
     "metadata": {},
     "output_type": "execute_result"
    }
   ],
   "source": [
    "$a<0.25 | $a>0.85;"
   ]
  },
  {
   "cell_type": "markdown",
   "id": "636f3684",
   "metadata": {},
   "source": [
    "We'll use this as an example of an arbitrary condition. Using **which** we can return a piddle containing the positions of the elements which match the condition:"
   ]
  },
  {
   "cell_type": "code",
   "execution_count": 54,
   "id": "11754c25",
   "metadata": {},
   "outputs": [
    {
     "data": {
      "text/plain": [
       "[0 1 2 9]"
      ]
     },
     "execution_count": 54,
     "metadata": {},
     "output_type": "execute_result"
    }
   ],
   "source": [
    "$idx = which($a<0.25 | $a>0.85);"
   ]
  },
  {
   "cell_type": "markdown",
   "id": "181f3da9",
   "metadata": {},
   "source": [
    "i.e. elements 0..2 and 9 in the original piddle are the ones we want. We can select these using the **index** function:"
   ]
  },
  {
   "cell_type": "code",
   "execution_count": 55,
   "id": "03352233",
   "metadata": {},
   "outputs": [
    {
     "data": {
      "text/plain": [
       "[0 0.1 0.2 0.9]"
      ]
     },
     "execution_count": 55,
     "metadata": {},
     "output_type": "execute_result"
    }
   ],
   "source": [
    "$a->index($idx);"
   ]
  },
  {
   "cell_type": "markdown",
   "id": "bcee3506",
   "metadata": {},
   "source": [
    "So here we have an arbitrary, non-contiguous slice. However thanks to the magic of PDL we can still modify this as if it was still a more boring kind of slice and have our results affect the original:"
   ]
  },
  {
   "cell_type": "code",
   "execution_count": 56,
   "id": "233b3335",
   "metadata": {},
   "outputs": [
    {
     "data": {
      "text/plain": [
       "[0 0 0 0]"
      ]
     },
     "execution_count": 56,
     "metadata": {},
     "output_type": "execute_result"
    }
   ],
   "source": [
    "$a->index($idx) .= 0; # Set indexed values to zero"
   ]
  },
  {
   "cell_type": "code",
   "execution_count": 57,
   "id": "c97e9361",
   "metadata": {},
   "outputs": [
    {
     "data": {
      "text/plain": [
       "[0 0 0 0.3 0.4 0.5 0.6 0.7 0.8 0]"
      ]
     },
     "execution_count": 57,
     "metadata": {},
     "output_type": "execute_result"
    }
   ],
   "source": [
    "$a;"
   ]
  },
  {
   "cell_type": "markdown",
   "id": "e1b37076",
   "metadata": {},
   "source": [
    "In fact PDL possesses a convenience function called **where** which actually lets you combine these steps at once:"
   ]
  },
  {
   "cell_type": "code",
   "execution_count": 58,
   "id": "8f3502b8",
   "metadata": {},
   "outputs": [
    {
     "data": {
      "text/plain": [
       "[0 0 0 0.3 0.4 0.5 0.6 0.7 0.8 0]"
      ]
     },
     "execution_count": 58,
     "metadata": {},
     "output_type": "execute_result"
    }
   ],
   "source": [
    "sequence(10)/10;\n",
    "$a->where($a<0.25 | $a>0.85) .= 0;\n",
    "$a;"
   ]
  },
  {
   "cell_type": "markdown",
   "id": "0abb571d",
   "metadata": {},
   "source": [
    "i.e. we make a subset of values **where** a certain condition is true. You can of course use index with explicit values:"
   ]
  },
  {
   "cell_type": "code",
   "execution_count": 59,
   "id": "0ab69cbb",
   "metadata": {},
   "outputs": [
    {
     "data": {
      "text/plain": [
       "[0 1 2 3 4 5 6 7 8 9]"
      ]
     },
     "execution_count": 59,
     "metadata": {},
     "output_type": "execute_result"
    }
   ],
   "source": [
    "$a = sequence(10);"
   ]
  },
  {
   "cell_type": "code",
   "execution_count": 60,
   "id": "df05d14b",
   "metadata": {},
   "outputs": [
    {
     "data": {
      "text/plain": [
       "[1 10]"
      ]
     },
     "execution_count": 60,
     "metadata": {},
     "output_type": "execute_result"
    }
   ],
   "source": [
    "$a->index(pdl(0,9))++; # Increment first and last values"
   ]
  },
  {
   "cell_type": "markdown",
   "id": "71d97753",
   "metadata": {},
   "source": [
    "What if you had a 2-D array? **index** is obviously one-dimensional. What happens is an implicit **clump(-1)** (i.e. the whole array is viewed as 1-D):"
   ]
  },
  {
   "cell_type": "code",
   "execution_count": 61,
   "id": "d898cbbe",
   "metadata": {},
   "outputs": [
    {
     "data": {
      "text/plain": [
       "\n",
       "[\n",
       " [ 0  1  2  3  4  5  6  7  8  9]\n",
       " [10 11 12 13 14 15 16 17 18 19]\n",
       "]\n"
      ]
     },
     "execution_count": 61,
     "metadata": {},
     "output_type": "execute_result"
    }
   ],
   "source": [
    "$a = sequence(10,2);"
   ]
  },
  {
   "cell_type": "code",
   "execution_count": 62,
   "id": "6bb6c4b1",
   "metadata": {},
   "outputs": [
    {
     "data": {
      "text/plain": [
       "[999 999]"
      ]
     },
     "execution_count": 62,
     "metadata": {},
     "output_type": "execute_result"
    }
   ],
   "source": [
    "$a->index(pdl(0,9)) .= 999;"
   ]
  },
  {
   "cell_type": "code",
   "execution_count": 63,
   "id": "566f9239",
   "metadata": {},
   "outputs": [
    {
     "data": {
      "text/plain": [
       "\n",
       "[\n",
       " [999   1   2   3   4   5   6   7   8   9]\n",
       " [ 10  11  12  13  14  15  16  17  18 999]\n",
       "]\n"
      ]
     },
     "execution_count": 63,
     "metadata": {},
     "output_type": "execute_result"
    }
   ],
   "source": [
    "$a;"
   ]
  },
  {
   "cell_type": "markdown",
   "id": "92708a53",
   "metadata": {},
   "source": [
    "You can of course use **where** too for any number of dimensions:"
   ]
  },
  {
   "cell_type": "code",
   "execution_count": 64,
   "id": "607be105",
   "metadata": {},
   "outputs": [
    {
     "name": "stdout",
     "output_type": "stream",
     "text": [
      "\n",
      "[\n",
      " [\n",
      "  [0 0 0 0 0 0 0 0]\n",
      "  [0 0 0 0 0 0 0 0]\n",
      "  [0 0 0 0 0 0 0 0]\n",
      "  [0 0 0 0 0 0 0 0]\n",
      "  [0 0 0 0 0 0 0 0]\n",
      "  [0 0 0 0 0 0 0 0]\n",
      "  [0 0 0 0 0 0 0 0]\n",
      "  [0 0 0 0 0 0 0 0]\n",
      " ]\n",
      " [\n",
      "  [0 0 0 0 0 0 0 0]\n",
      "  [0 0 0 0 0 0 0 0]\n",
      "  [0 0 0 0 0 0 0 0]\n",
      "  [0 0 0 0 0 0 0 0]\n",
      "  [0 0 0 0 0 0 0 0]\n",
      "  [0 0 0 0 0 0 0 0]\n",
      "  [0 0 0 0 0 0 0 0]\n",
      "  [0 0 0 0 0 0 0 0]\n",
      " ]\n",
      " [\n",
      "  [0 0 0 0 0 0 0 0]\n",
      "  [0 0 0 0 0 0 0 0]\n",
      "  [0 0 0 0 0 0 0 0]\n",
      "  [0 0 0 0 0 0 0 0]\n",
      "  [0 0 0 0 0 0 0 0]\n",
      "  [0 0 0 0 0 0 0 0]\n",
      "  [0 0 0 0 0 0 0 0]\n",
      "  [0 0 0 0 0 0 0 0]\n",
      " ]\n",
      " [\n",
      "  [0 0 0 0 0 0 0 0]\n",
      "  [0 0 0 0 0 0 0 0]\n",
      "  [0 0 0 0 0 0 0 0]\n",
      "  [0 0 0 1 1 1 0 0]\n",
      "  [0 0 0 1 1 1 0 0]\n",
      "  [0 0 0 1 1 1 0 0]\n",
      "  [0 0 0 0 0 0 0 0]\n",
      "  [0 0 0 0 0 0 0 0]\n",
      " ]\n",
      " [\n",
      "  [0 0 0 0 0 0 0 0]\n",
      "  [0 0 0 0 0 0 0 0]\n",
      "  [0 0 0 0 0 0 0 0]\n",
      "  [0 0 0 1 1 1 0 0]\n",
      "  [0 0 0 1 1 1 0 0]\n",
      "  [0 0 0 1 1 1 0 0]\n",
      "  [0 0 0 0 0 0 0 0]\n",
      "  [0 0 0 0 0 0 0 0]\n",
      " ]\n",
      " [\n",
      "  [0 0 0 0 0 0 0 0]\n",
      "  [0 0 0 0 0 0 0 0]\n",
      "  [0 0 0 0 0 0 0 0]\n",
      "  [0 0 0 1 1 1 0 0]\n",
      "  [0 0 0 1 1 1 0 0]\n",
      "  [0 0 0 1 1 1 0 0]\n",
      "  [0 0 0 0 0 0 0 0]\n",
      "  [0 0 0 0 0 0 0 0]\n",
      " ]\n",
      " [\n",
      "  [0 0 0 0 0 0 0 0]\n",
      "  [0 0 0 0 0 0 0 0]\n",
      "  [0 0 0 0 0 0 0 0]\n",
      "  [0 0 0 0 0 0 0 0]\n",
      "  [0 0 0 0 0 0 0 0]\n",
      "  [0 0 0 0 0 0 0 0]\n",
      "  [0 0 0 0 0 0 0 0]\n",
      "  [0 0 0 0 0 0 0 0]\n",
      " ]\n",
      " [\n",
      "  [0 0 0 0 0 0 0 0]\n",
      "  [0 0 0 0 0 0 0 0]\n",
      "  [0 0 0 0 0 0 0 0]\n",
      "  [0 0 0 0 0 0 0 0]\n",
      "  [0 0 0 0 0 0 0 0]\n",
      "  [0 0 0 0 0 0 0 0]\n",
      "  [0 0 0 0 0 0 0 0]\n",
      "  [0 0 0 0 0 0 0 0]\n",
      " ]\n",
      "]\n"
     ]
    },
    {
     "data": {
      "text/plain": [
       "1"
      ]
     },
     "execution_count": 64,
     "metadata": {},
     "output_type": "execute_result"
    }
   ],
   "source": [
    "# e.g. make a cube with a sphere of 1's in the middle:\n",
    "$cube = rvals(8,8,8); \n",
    "$tmp = $cube->where($cube<2);\n",
    "$cube .= 0;\n",
    "$tmp .= 1;\n",
    "print $cube;"
   ]
  },
  {
   "cell_type": "markdown",
   "id": "43d438dc",
   "metadata": {},
   "source": [
    "## PDL threading and signatures\n",
    "\n",
    "Slicing and indexing arbitrary subsets of data is certainly a fundamental aspect of any array processing language and PDL is no exception (as you can tell from the preceding examples). In PDL those functions might be even more important since they are absolutely vital in using PDL **threading**, the fast (and automagic) vectorized iteration of \"elementary operations\" over arbitrary slices of multidimensional data. First we have to explain what we mean by threading in the context of PDL, especially since the term **threading** already has a distinct meaning in computer science that only partly agrees with its usage within PDL. In the following we will explain the general use of PDL threading and highlight the close interplay with those slicing and dicing routines that you have just become familiar with (**slice**, **xchg**, **mv**, etc). But first things first: what is PDL threading?\n",
    "\n",
    "## Threading\n",
    "\n",
    "Threading already has been working under the hood in many examples we have encountered in previous sections. It allows for fast processing of large amounts of data in a scripting language (such as perl). And just to be sure, PDL Threading is not the same as threading in the computer science sense or in the perl sense. Both concepts are related but more about that later.\n",
    "\n",
    "## A simple example\n",
    "\n",
    "As a starting point, we look at one of the PDL projection operators (they make N-1 dimensional piddles from N dim input piddles). So we need some data to try our code on. This time, we use the image of a tiny fluorescent bead that was recorded with a fluorescent microscope:"
   ]
  },
  {
   "cell_type": "code",
   "execution_count": 65,
   "id": "4dfb754a",
   "metadata": {},
   "outputs": [
    {
     "name": "stderr",
     "output_type": "stream",
     "text": [
      "jpegtopnm: WRITING PPM FILE\n"
     ]
    },
    {
     "data": {
      "text/plain": [
       "TOO LONG TO PRINT"
      ]
     },
     "execution_count": 65,
     "metadata": {},
     "output_type": "execute_result"
    }
   ],
   "source": [
    "use PDL::IO::Pic;\n",
    "$im = rpic './data/beads.jpg'; # image stored in the JPEG format"
   ]
  },
  {
   "cell_type": "markdown",
   "id": "d949a50b",
   "metadata": {},
   "source": [
    "The following code snippet calculates the maxima of all rows of this image **$im** :"
   ]
  },
  {
   "cell_type": "code",
   "execution_count": 66,
   "id": "7bfea44b",
   "metadata": {},
   "outputs": [
    {
     "data": {
      "text/plain": [
       "TOO LONG TO PRINT"
      ]
     },
     "execution_count": 66,
     "metadata": {},
     "output_type": "execute_result"
    }
   ],
   "source": [
    "$max = $im->maximum;"
   ]
  },
  {
   "cell_type": "markdown",
   "id": "d7088318",
   "metadata": {},
   "source": [
    "We rewrite this example slightly so that we can see the dimensions of the piddles involved using a little helper routine (see box) to print out the shape of piddles in the course of computations. Since is important to keep track of the dimensions of piddles when using (and especially when introducing) PDL threading we quickly define a\n",
    "shorthand command (a method) that lets us print the dimensions of piddles nicely formatted as needed:"
   ]
  },
  {
   "cell_type": "code",
   "execution_count": 67,
   "id": "89deb185",
   "metadata": {},
   "outputs": [],
   "source": [
    "# pretty print type+dimensions and\n",
    "# allow for optional string arg\n",
    "{ package PDL;\n",
    "    sub pdim {\n",
    "        my ($this) = @_;\n",
    "        print (($#_ > 0 ? \"$_[1]\\t\" : \"\" ) .\n",
    "        $this->info(\"%T %D\\n\")); # use info to print type and dims\n",
    "    return $this;\n",
    "    }\n",
    "}"
   ]
  },
  {
   "cell_type": "code",
   "execution_count": 68,
   "id": "bdf08a20",
   "metadata": {},
   "outputs": [
    {
     "name": "stdout",
     "output_type": "stream",
     "text": [
      "Input\tByte D [3,256,256]\n",
      "Result\tByte D [256,256]\n"
     ]
    },
    {
     "data": {
      "text/plain": [
       "TOO LONG TO PRINT"
      ]
     },
     "execution_count": 68,
     "metadata": {},
     "output_type": "execute_result"
    }
   ],
   "source": [
    "($max = $im->pdim('Input')->maximum)->pdim('Result');"
   ]
  },
  {
   "cell_type": "markdown",
   "id": "3d5e3622",
   "metadata": {},
   "source": [
    "Two observations: note how we temporarily switched into the package PDL so that pdim can be used as a method on piddles and we made the function return the piddle argument so that it can be seamlessly integrated into method invocation chains:"
   ]
  },
  {
   "cell_type": "code",
   "execution_count": 69,
   "id": "78413ccb",
   "metadata": {},
   "outputs": [
    {
     "name": "stdout",
     "output_type": "stream",
     "text": [
      "Dims\tDouble D [10,2]\n"
     ]
    },
    {
     "data": {
      "text/plain": [
       "[999 999]"
      ]
     },
     "execution_count": 69,
     "metadata": {},
     "output_type": "execute_result"
    }
   ],
   "source": [
    "$a->pdim(\"Dims\")->maximum;"
   ]
  },
  {
   "cell_type": "markdown",
   "id": "0bb22bc3",
   "metadata": {},
   "source": [
    "**A small utility routine**\n",
    "\n",
    "So let's dissect what has happened. If you look at the documentation of **maximum** it says This function reduces the dimensionality of a piddle by one by taking the maximum along the 1st dimension.\n",
    "\n",
    "In this respect **maximum** behaves quite differently from **max**. **max** will always return a scalar with a value equal to that of the largest element of a (possibly multidimensional) piddle. **maximum**, however, is by definition an operation that takes the maximum only over a one-dimensional vector. If the input piddle is of higher dimension this **elementary operation** is automatically iterated over all one-dimensional subslices of the input piddle.\n",
    "\n",
    "And, most importantly, this automatic iteration (we call it the **threadloop**) is implemented as fast optimized C loops. As a convention, these subslices are by default taken along the first dimensions of the input piddle. In our current example the subslices are one-dimensional and therefore taken along the first dimension. All results are placed in an appropriately sized output piddle of N-1 dimensions, one value for each subslice on which the operation was performed.\n",
    "\n",
    "Now it should be no surprise that"
   ]
  },
  {
   "cell_type": "code",
   "execution_count": 70,
   "id": "72a7081c",
   "metadata": {},
   "outputs": [
    {
     "data": {
      "text/plain": [
       "\n",
       "[\n",
       " [\n",
       "  [ 0  1  2  3  4]\n",
       "  [ 5  6  7  8  9]\n",
       "  [10 11 12 13 14]\n",
       "  [15 16 17 18 19]\n",
       "  [20 21 22 23 24]\n",
       "  [25 26 27 28 29]\n",
       "  [30 31 32 33 34]\n",
       "  [35 36 37 38 39]\n",
       "  [40 41 42 43 44]\n",
       "  [45 46 47 48 49]\n",
       " ]\n",
       " [\n",
       "  [50 51 52 53 54]\n",
       "  [55 56 57 58 59]\n",
       "  [60 61 62 63 64]\n",
       "  [65 66 67 68 69]\n",
       "  [70 71 72 73 74]\n",
       "  [75 76 77 78 79]\n",
       "  [80 81 82 83 84]\n",
       "  [85 86 87 88 89]\n",
       "  [90 91 92 93 94]\n",
       "  [95 96 97 98 99]\n",
       " ]\n",
       " [\n",
       "  [100 101 102 103 104]\n",
       "  [105 106 107 108 109]\n",
       "  [110 111 112 113 114]\n",
       "  [115 116 117 118 119]\n",
       "  [120 121 122 123 124]\n",
       "  [125 126 127 128 129]\n",
       "  [130 131 132 133 134]\n",
       "  [135 136 137 138 139]\n",
       "  [140 141 142 143 144]\n",
       "  [145 146 147 148 149]\n",
       " ]\n",
       "]\n"
      ]
     },
     "execution_count": 70,
     "metadata": {},
     "output_type": "execute_result"
    }
   ],
   "source": [
    "$im3d = sequence short, 5,10,3; # a 3D image (volume)"
   ]
  },
  {
   "cell_type": "code",
   "execution_count": 71,
   "id": "e8022797",
   "metadata": {},
   "outputs": [
    {
     "name": "stdout",
     "output_type": "stream",
     "text": [
      "Input\tShort D [5,10,3]\n",
      "Result\tShort D [10,3]\n"
     ]
    },
    {
     "data": {
      "text/plain": [
       "\n",
       "[\n",
       " [  4   9  14  19  24  29  34  39  44  49]\n",
       " [ 54  59  64  69  74  79  84  89  94  99]\n",
       " [104 109 114 119 124 129 134 139 144 149]\n",
       "]\n",
       " \n"
      ]
     },
     "execution_count": 71,
     "metadata": {},
     "output_type": "execute_result"
    }
   ],
   "source": [
    "$max = $im3d->pdim('Input')->maximum;\n",
    "$max->pdim('Result') . \" \\n\"; "
   ]
  },
  {
   "cell_type": "code",
   "execution_count": null,
   "id": "f6601f4d",
   "metadata": {},
   "outputs": [],
   "source": []
  },
  {
   "cell_type": "markdown",
   "id": "3784a143",
   "metadata": {},
   "source": [
    "As expected the above command sequence creates a 2D piddle (size [10,3]) of maxima of all rows of the original volume data.\n",
    "\n",
    "## Why bother?\n",
    "\n",
    "Why should we go through this at length? Quickly you will realize that many more complicated operations can be assembled from the iteration of an elementary operation (that is if you keep reading this chapter). Those elementary operations that ship with the basic PDL distribution make the building blocks for your more complicated real world applications; threading just makes sure it will all happen quickly enough and without too much syntactical effort from your side (you still will have to get your head round the idea). So let's expand our example a little further and postpone the why and how for a small while.\n",
    "\n",
    "## More examples\n",
    "\n",
    "Now suppose we do not want to calculate the maxima along the first dimension but rather along the second (the **column maxima**). However, we just heard that **maximum** works by definition on the first dimension. How can we make it do the same thing on the second dimension? Here is where the dimension manipulation routines come in handy: we use a method to make a piddle in which the original second dimension has been moved to first place. Guess how that is done: yes, using **xchg** we get what we want:"
   ]
  },
  {
   "cell_type": "code",
   "execution_count": 72,
   "id": "2e0fd137",
   "metadata": {},
   "outputs": [
    {
     "name": "stdout",
     "output_type": "stream",
     "text": [
      "Input\tShort D [10,5,3]\n",
      "Result\tShort D [5,3]\n"
     ]
    },
    {
     "data": {
      "text/plain": [
       "\n",
       "[\n",
       " [ 45  46  47  48  49]\n",
       " [ 95  96  97  98  99]\n",
       " [145 146 147 148 149]\n",
       "]\n",
       " \n"
      ]
     },
     "execution_count": 72,
     "metadata": {},
     "output_type": "execute_result"
    }
   ],
   "source": [
    "$im3d = sequence short, 5,10,3; # a 3D image (volume)\n",
    "$max = $im3d->xchg(0,1)->pdim('Input')->maximum;\n",
    "$max->pdim('Result') . \" \\n\"; "
   ]
  },
  {
   "cell_type": "markdown",
   "id": "951f9912",
   "metadata": {},
   "source": [
    "If you check pdim's output you see how the originally second dimension of size 10 has been moved to the first dimension (step 1->2) and, accordingly, maximum now does its work on all the columns of the original input piddle $im3d (step 3).\n",
    "\n",
    "Again PDL has automatically iterated the elementary functionality of maximum (calculate the maximum of a one-dimensional vector) over all subslices of the data and created an appropriately sized piddle (here of shape [5,3]) to hold the resulting elements.\n",
    "\n",
    "This general scheme works for most PDL functions. For example, let's say you have a stack of images (represented by a 3D piddle) and you want to convolve each image with the same kernel. That's easy. Make sure the image dimensions (x and y) are the leading dimension in your piddle:\n",
    "\n",
    ">`$convolved = $stack->conv2d($kernel);`\n",
    "\n",
    "And if your image stack is organized differently, e.g. the leading dimension is the z dimension, say in a [8,256,256] shaped piddle just use mv to obtain the desired result:\n",
    "\n",
    ">`$convolved = $stack->mv(0,2)->conv2d($kernel);`\n",
    "\n",
    "These (admittedly simple) examples show the general principle: an elementary operation is iterated over subslices of one or several multidimensional piddles. Sometimes the dimensions of the input piddles involved need to be manipulated so that iteration happens as desired (e.g. over the intended subslices) and the result has the intended dimensionality. Formulating your problem at hand in a way that makes use of threading rather than resorting to nested **for**-loops at the perl level can make the difference between a script that is executed faster than you can type and one that is crawling along and giving you plenty of time to have your long overdue lunch break."
   ]
  },
  {
   "cell_type": "markdown",
   "id": "761de0d0",
   "metadata": {},
   "source": [
    "## Why threading and why call it threading ?\n",
    "\n",
    "So what are the advantages of relying on threading to perform things you can achieve in perl also with explicit **for**-loops and the **slice** command? There are several (very good) reasons. The more you use PDL for your daily work the quicker you will appreciate this.\n",
    "\n",
    "Before we get into the details of the why and how let's admit: PDL is by no means the first data language that supports this type of automatic implicit looping facility: the authors have in fact been inspired by several previous data language implementations, most notably **Yorick**.\n",
    "\n",
    "Similar concepts are also implemented in APL and J, although well hidden by a wealth of terminology and notation very different from that of most other conventional computer languages. What we think distinguishes PDL from these previous languages is the consistent support of threading throughout PDL, the tight integration with the PDL preprocessor (dealt with in a separate chapter) and the conceptual interplay with the dimension manipulation routines.\n",
    "\n",
    "The first and most important reason to use **PDL threading** is simply **speed**. The alternative to threading are loops at the perl level. That is certainly a viable alternative, however, if we rewrite our maximum routine along these lines a quick benchmark test will prove our point. First of all, here is the code that does the equivalent of maximum on 2D input without using threading:"
   ]
  },
  {
   "cell_type": "code",
   "execution_count": 73,
   "id": "db4f138f",
   "metadata": {},
   "outputs": [],
   "source": [
    "sub mymax {\n",
    "    # we only cover the case of 2D input\n",
    "    my ($pdl) = @_;\n",
    "    die \"can only deal with 2D input\" unless $pdl->getndims == 2;\n",
    "    $result = PDL->zeroes($pdl->type,$pdl->getdim(1));\n",
    "    my $tmp;\n",
    "    for (my $i=0;$i<$pdl->getdim(1);$i++) {\n",
    "        ($tmp = $result->slice(\"($i)\")) .= $pdl->slice(\",($i)\")->max;\n",
    "    }\n",
    "    return $result;\n",
    "}"
   ]
  },
  {
   "cell_type": "markdown",
   "id": "012e06cb",
   "metadata": {},
   "source": [
    "We have written it so that **mymax** can just deal with 2D input piddles. A routine for the general n-dimensional case would have been more involved . Note that we explicitly have to create an output piddle of the desired type and size. By comparison, the corresponding threading routine is much more concise:"
   ]
  },
  {
   "cell_type": "code",
   "execution_count": 74,
   "id": "dee52fd9",
   "metadata": {},
   "outputs": [],
   "source": [
    "sub mythreadmax {\n",
    "    my ($pdl) = @_;\n",
    "    return $pdl->maximum;\n",
    "}"
   ]
  },
  {
   "cell_type": "markdown",
   "id": "17934e8f",
   "metadata": {},
   "source": [
    "In fact, we only wrapped **maximum** in another subroutine to have the same calling overhead as **mymax**. We are trying to be fair (even though we are biased). So let's compare the performance of **mymax** versus **mythreadmax** . How? Remember that we are using perl, after all, and that there is (almost) always a module that does just what you need. Here and now, that would be **Benchmark**.\n",
    "\n",
    "Our benchmarking script looks like this"
   ]
  },
  {
   "cell_type": "code",
   "execution_count": 75,
   "id": "428da905",
   "metadata": {},
   "outputs": [
    {
     "name": "stdout",
     "output_type": "stream",
     "text": [
      "Benchmark: running PDL thread, Perl loops for at least 3 CPU seconds...\n",
      "PDL thread:  4 wallclock secs ( 3.16 usr +  0.00 sys =  3.16 CPU) @ 229667.72/s (n=725750)\n",
      "Perl loops:  4 wallclock secs ( 3.32 usr +  0.00 sys =  3.32 CPU) @ 213.25/s (n=708)\n"
     ]
    },
    {
     "data": {
      "text/plain": [
       "HASH(0x555a7cd12c28)"
      ]
     },
     "execution_count": 75,
     "metadata": {},
     "output_type": "execute_result"
    }
   ],
   "source": [
    "use Benchmark;\n",
    "use PDL;\n",
    "$a = sequence(10,300);\n",
    "timethese(0, { # run each for at least 3 CPU secs\n",
    "    'Perl loops' => '$pl = mymax $a;',\n",
    "    'PDL thread' => '$pt = mythreadmax $a;',\n",
    "});"
   ]
  },
  {
   "cell_type": "markdown",
   "id": "2de45372",
   "metadata": {},
   "source": [
    "If we run this script it generates\n",
    "\n",
    ">Benchmark: running PDL thread, Perl loops for at least 3 CPU seconds...<br />\n",
    "PDL thread:  3 wallclock secs ( 3.15 usr +  0.00 sys =  3.15 CPU) @ 208103.17/s (n=655525)<br />\n",
    "Perl loops:  3 wallclock secs ( 3.14 usr +  0.00 sys =  3.14 CPU) @ 209.87/s (n=659)<br />"
   ]
  },
  {
   "cell_type": "markdown",
   "id": "5a02dd5b",
   "metadata": {},
   "source": [
    "That proves our point: while the example using threading is executed at a rate of nearly 208,103 per second using explicit loops has brought down the speed to less than 210/second, a very significant difference.\n",
    "\n",
    "Obviously, the difference between threading and explicit looping depends somewhat on the nature of the elementary operation and the piddles in question. The difference becomes most striking the more elementary operations are involved and the faster an individual elementary operation can be performed. The advantage of threading will level off as the time for performing the elementary operation becomes comparable or even greater than that required to execute the explicit looping code.\n",
    "\n",
    "Another distinct advantage becomes apparent when comparing the code required to implement the equivalent of the **maximum** functionality explicitly in perl code. We have to write extra code to create the right size output piddle, explicitly handle dimension sizes, etc. All in all the code is much less concise and also less general.\n",
    "\n",
    "With the requirement to deal with all dimensions, loop limits, etc yourself you increase the probability of introducing errors into your code. When using threading, PDL checks all dimensions for you, makes sure it loops over the correct indices internally and keeps you from having to do the bookkeeping: after all, **that** is what computers are good at.\n",
    "\n",
    "Even though PDL threading makes your life much easier in one respect by taking care of some of the \"messy\" details it leaves you with another task: you have to find the places in your algorithm/problem where threading can effectively be used and help to make for speedy execution even when using an (almost inevitably slower) scripting language. But finding such places and making use of these vectorized features is the key to using an array-oriented high level language like PDL successfully. This is what the programmer new to PDL and used to low-level programming has to learn: avoid explicit loops where possible and try to use automatically performed **thread loops** instead.\n",
    "\n",
    "There is yet another benefit that comes with the threading approach. By looking at places where threading can be efficiently used you are also rethinking your problem in a way so that it can be very effectively parallelized! The keen reader has probably already observed that those internal automatic loops of elementary operations over subslices do not have to be performed sequentially. In fact, as of PDL-2.4.10, there is a new capability where PDL now **support automatic parallelization of the PDL threadloops via POSIX threads**:"
   ]
  },
  {
   "cell_type": "code",
   "execution_count": 76,
   "id": "7fdefbcd",
   "metadata": {},
   "outputs": [
    {
     "name": "stdout",
     "output_type": "stream",
     "text": [
      "Benchmark: timing 20 iterations of threaded...\n",
      "  threaded: 0.0770402 wallclock secs ( 0.40 usr +  0.01 sys =  0.41 CPU) @ 48.78/s (n=20)\n",
      "            (warning: too few iterations for a reliable count)\n",
      "Benchmark: timing 20 iterations of unthreaded...\n",
      "unthreaded: 0.246899 wallclock secs ( 0.24 usr +  0.00 sys =  0.24 CPU) @ 83.33/s (n=20)\n",
      "            (warning: too few iterations for a reliable count)\n"
     ]
    },
    {
     "data": {
      "text/plain": [
       "HASH(0x555a7cd3b238)"
      ]
     },
     "execution_count": 76,
     "metadata": {},
     "output_type": "execute_result"
    }
   ],
   "source": [
    "use Benchmark qw(:hireswallclock);\n",
    "use PDL;\n",
    "\n",
    "$a = zeros(2_000_000);\n",
    "$b = zeros(2_000_000);\n",
    "\n",
    "set_autopthread_size(0);\n",
    "set_autopthread_targ(10); # split across 10 threads\n",
    "timethese(20,{threaded => '$a **= 1.3'});\n",
    "\n",
    "set_autopthread_targ(0); # Set target to 0 for unthreaded\n",
    "timethese(20,{unthreaded => '$b **= 1.3'});"
   ]
  },
  {
   "cell_type": "markdown",
   "id": "9f8a6eb6",
   "metadata": {},
   "source": [
    "For a Vista/Cygwin system with a quad-core i5 processor we see an greater than 2.5X reduction in wall clock time by using multiple processor cores. See documentation for PDL::ParallelCPU using help PDL::ParallelCPU in one of the PDL shells, or with pdldoc PDL::ParallelCPU from the command line."
   ]
  },
  {
   "cell_type": "markdown",
   "id": "ed0a9a20",
   "metadata": {},
   "source": [
    "## The general case: PDL functions and their signature\n",
    "\n",
    "Having made the case for PDL threading let's study its own messy details. PDL threading is a powerful tool. And as usual you have to pay a price for power: complexity. The general rules for PDL threading can be confusing at first. But there is hope: you can first study the more simple cases and work up to more difficult examples as you go. So let's continue our tour of threading.\n",
    "\n",
    "The first question arises naturally: how can one find out about the dimension of subslices in a elementary operation of a function in PDL? We know from the preceding examples that some PDL functions work on a one-dimensional subvector of the data and generate a zero-dimensional result (a scalar) from each of the processed subslices, for example: **maximum**, **minimum**, **sumover**, **prodover**, etc. Two-dimensional convolution (**conv2d**), on the other hand, consumes a 2D subslice in an elementary operation. But how do we get this information in general for any given function? It is easy: you just have to check the function's **signature**!\n",
    "\n",
    "The signature is a string that contains this information in concise symbolic form: it names the parameters of a function and the dimensions of these parameters in an elementary operation. Additionally, it specifies which of these parameters are input parameters and which are output parameters. Finally, for some functions it contains information about special type conversions that are to be performed at run-time.\n",
    "\n",
    "Generally, you can find the signature of a function using the perldl online help system. Just type `sig <funcname>` at the command prompt, e.g.:\n",
    "\n",
    ">'pdl> sig maximum'<br />\n",
    "  Signature: maximum(a(n); [o]c())\n",
    "  \n",
    "The interesting part is the formal argument list in parentheses that follows the function name: **a(n)**; **[o]c()**. This signature states that **maximum** is a function with two arguments named **a** and **c**. Wait a minute: above it seemed that **maximum** only takes one argument and returns a result! The apparent contradiction is resolved by noting that the formal argument **c** is flagged with the **[o]** option identifying **c** is an output argument. This seems to suggest that we could maximum also call as **`maximum($im, $result)`**;\n",
    "\n",
    "This is in fact possible and an intended feature of PDL that is useful in tight loops where it helps to avoid unnecessary reallocation of variables (see below). In general, however, we will call functions in the usual way that can be written symbolically as:\n",
    "\n",
    ">**`output_arg_list = function(input_arg_list)`**<br />\n",
    "\n",
    "or equivalently, using the method notation:\n",
    "\n",
    ">**`output_arg_list = input_piddle_1->function(rest_of_arg_list)`**<br />\n",
    "\n",
    "The other important information supplied by the signature is the dimensionality of each of these arguments in an elementary operation. Each formal parameter carries this information in a list of formal dimension identifiers enclosed in parentheses. So indeed **a(n)** marks a as a one-dimensional argument. Additionally, each dimension has a **named size** in a signature, in this example **n** . **c()** has an empty list of dimension sizes: it is declared to be zero-dimensional (a scalar).\n",
    "\n",
    "**If piddles that are supplied as runtime arguments to a function have more dimensions than specified for their respective formal arguments in the signature then these dimensions are treated by PDL as extra dimensions and lead to the operation being threaded over the appropriate subslices, just what we have seen in the simple examples above.**\n",
    "\n",
    "As mentioned before a higher dimensional piddle can be viewed as an array (**again not in the perl array sense**) of lower dimensional subslices. Anybody who has ever worked with matrix algebra will be familiar with the concept. For some of the following examples it will be useful to illustrate this concept in somewhat more detail. Let's make a piddle first, a simple 3D piddle:"
   ]
  },
  {
   "cell_type": "code",
   "execution_count": 77,
   "id": "b5786b3f",
   "metadata": {},
   "outputs": [
    {
     "data": {
      "text/plain": [
       "\n",
       "[\n",
       " [\n",
       "  [ 0  1  2]\n",
       "  [ 3  4  5]\n",
       "  [ 6  7  8]\n",
       "  [ 9 10 11]\n",
       " ]\n",
       " [\n",
       "  [12 13 14]\n",
       "  [15 16 17]\n",
       "  [18 19 20]\n",
       "  [21 22 23]\n",
       " ]\n",
       " [\n",
       "  [24 25 26]\n",
       "  [27 28 29]\n",
       "  [30 31 32]\n",
       "  [33 34 35]\n",
       " ]\n",
       " [\n",
       "  [36 37 38]\n",
       "  [39 40 41]\n",
       "  [42 43 44]\n",
       "  [45 46 47]\n",
       " ]\n",
       " [\n",
       "  [48 49 50]\n",
       "  [51 52 53]\n",
       "  [54 55 56]\n",
       "  [57 58 59]\n",
       " ]\n",
       "]\n"
      ]
     },
     "execution_count": 77,
     "metadata": {},
     "output_type": "execute_result"
    }
   ],
   "source": [
    "$pdl = sequence(3,4,5);"
   ]
  },
  {
   "cell_type": "markdown",
   "id": "ed271f96",
   "metadata": {},
   "source": [
    "A boring piddle, you say? Yes, boring, but simple enough to clearly see what is going on in the following. First we look at it as a 3D array of 0D subslices. Since we know the syntax of the **slice** method already we can write down all 0D subslices, no problem:\n",
    "\n",
    ">**`$pdl(($i),($j),($k))`**;\n",
    "\n",
    "Well, obviously we have not written down all `3*4*5` = 60 subslices literally but rather in a more concise way. It is understood that `$i` can have any value between 0 and 2, `$j` between 0 and 3 and `$k` between 0 and 4. To emphasize this we sometimes write\n",
    "\n",
    ">**`$pdl(($i),($j),($k)) $i=0..2; $j=0..3; $k=0..4`**;\n",
    "\n",
    "With the meaning as above (**and '..' not meaning the perl list operator**). In that way we enumerate all the subslices. Quite analogously, when dealing with an elementary operation that consumes 1D slices we want to view **`$pdl`** as an [4,5] array of 1D subslices:\n",
    "\n",
    ">**`$pdl(:,($i),($j)) $i=0..3; $j=0..4`**;\n",
    "\n",
    "And similarly, as a [5] array of 2D subslices:\n",
    "\n",
    ">**`$pdl(:,:,($i)) $i=0..4`**;\n",
    "\n",
    "You see how we just insert a \":\" for each complete dimension we include in the subslice. In fig. XXX the situation is illustrated graphically for a 2D piddle. Depending on the dimensions involved in an elementary operation we therefore often group the dimensions (what we call the **shape**) of a piddle in a form that suggests the interpretation as an array of subslices. For example, given our 3D piddle above that has a shape [3,4,5] we have the following different interpretations:\n",
    "\n",
    ">**()[3,4,5] a shape [3,4,5] array of 0D slices<br />\n",
    "(3)[4,5] a shape [4,5] array of 1D slices (of shape [3])<br />\n",
    "(3,4)[5] a shape [5] array of 2D slices (of shape [3,4])<br />\n",
    "(3,4,5)[] a 0D array of 3D slices (of shape [3,4,5])**\n",
    "\n",
    "The dimensions in parentheses suggest that these are used in the **elementary operation** (mimicking the signature syntax); in the context of threading we call these the **elementary dimensions**. The following group of dimensions in rectangular brackets are the **extra dimensions**. Conversely, given the elementary/extra dims notation we can easily obtain the shape of the underlying piddle by appending the extradims to the elementary dims. For example, a [3,6,1] array of 2D subslices of shape [3,4]:\n",
    "\n",
    ">**(3,4)[3,6,1]**\n",
    "\n",
    "identifies our piddle's shape as [3,4,3,6,1].\n",
    "\n",
    "Alright, the principles are simple. But nothing is better than a few examples. Again a typical imaging processing task is our starting point. We want to convert a colour image to grayscale. The input image is represented as a two-dimensional array of triples of RGB colour coordinates, or in other words, a piddle of shape [3,n,m]. Without delving too deeply into the details of digital colour representation it suffices to note that commonly a gray value **i** corresponding to a colour represented by a triple of red, green and blue intensities (**r,g,b**) is obtained as a weighted sum:\n",
    "\n",
    "$i = \\frac{77}{256} r + \\frac{150}{256} g + \\frac{29}{256} b$\n",
    "\n",
    "A straight forward way to compute this weighted sum in PDL uses the **inner** function. This function implements the well-known **inner product** between two vectors. In a elementary operation **inner** computes the sum of the element-by-element product of two one-dimensional subslices (vectors) of equal length:\n",
    "\n",
    "\n",
    "$c = \\sum_{i=0}^{n-1} a_i b_i$\n",
    "\n",
    "Now you should already be able to guess inner's signature:\n",
    "\n",
    ">**pdl> sig inner<br />\n",
    "Signature: inner(a(n); b(n); [o]c())**\n",
    "\n",
    "**a(n); b(n); [o]c();** : two one-dimensional input parameters **a(n)** and **b(n)** and a scalar output parameter **c()**. Since a and b both have the same named dimension size n the corresponding dimension sizes of the actual arguments will have to match at runtime (which will be checked by PDL!). We demonstrate the computation starting with a colour triple that produces a sort of yellow/orange on an RGB display:"
   ]
  },
  {
   "cell_type": "code",
   "execution_count": 78,
   "id": "b0379e2b",
   "metadata": {},
   "outputs": [
    {
     "data": {
      "text/plain": [
       "[255 214 0]"
      ]
     },
     "execution_count": 78,
     "metadata": {},
     "output_type": "execute_result"
    }
   ],
   "source": [
    "$yel = byte [255, 214, 0]; # a yellowish pixel"
   ]
  },
  {
   "cell_type": "code",
   "execution_count": 79,
   "id": "3f4ac6a9",
   "metadata": {},
   "outputs": [
    {
     "data": {
      "text/plain": [
       "[0.300781 0.585938 0.113281]"
      ]
     },
     "execution_count": 79,
     "metadata": {},
     "output_type": "execute_result"
    }
   ],
   "source": [
    "$conv = float([77,150,29])/256; # conversion factor"
   ]
  },
  {
   "cell_type": "code",
   "execution_count": 80,
   "id": "fdfa6fc2",
   "metadata": {},
   "outputs": [
    {
     "data": {
      "text/plain": [
       "202"
      ]
     },
     "execution_count": 80,
     "metadata": {},
     "output_type": "execute_result"
    }
   ],
   "source": [
    "$i = inner($yel,$conv)->byte; # compute and convert to byte"
   ]
  },
  {
   "cell_type": "markdown",
   "id": "dea42a4e",
   "metadata": {},
   "source": [
    "Now threading makes extending this example to a whole RGB image very straightforward:"
   ]
  },
  {
   "cell_type": "code",
   "execution_count": 81,
   "id": "0a6ae551",
   "metadata": {},
   "outputs": [
    {
     "name": "stdout",
     "output_type": "stream",
     "text": [
      "COLOR\tByte D [3,256,256]\n"
     ]
    },
    {
     "name": "stderr",
     "output_type": "stream",
     "text": [
      "jpegtopnm: WRITING PPM FILE\n"
     ]
    },
    {
     "data": {
      "text/plain": [
       "TOO LONG TO PRINT"
      ]
     },
     "execution_count": 81,
     "metadata": {},
     "output_type": "execute_result"
    }
   ],
   "source": [
    "use PDL::IO::Pic; # IO for popular image formats\n",
    "$im = rpic './data/beads.jpg'; # a colour image from the book dataset\n",
    "$gray = inner($im->pdim('COLOR'),$conv); # threaded inner product over all pixels\n",
    "$gb = $gray->byte; # back to byte type"
   ]
  },
  {
   "cell_type": "markdown",
   "id": "5fdf0018",
   "metadata": {},
   "source": [
    "The code needs no modification! Let us analyze what is going on. We know that $conv has just the required number of dimensions (namely one of size 3). So this argument doesn't require PDL to perform threading. However, the first argument `$im` has two **extra dimensions** (shape [256,256]). In this case threading works (as you would probably expect) by iterating the inner product over the combination of all 1D subslices of `$im` with the one and only subslice of `$conv` creating a resulting piddle (the grayscale image) that is made up of all results of these elementary operations: a 256x256 array of scalars, or in other words, a 2D piddle of shape [256,256].\n",
    "\n",
    "We can more concisely express what we have said in words above in our new way to split piddle arguments in elementary dimensions and extra dimensions. At the top we write **inner**'s signature and at the bottom the **slice** expressions that show the subslices involved in each elementary operation:\n",
    "\n",
    ">Piddles `$im $conv $gray`<br />\n",
    ">Signature a(n); b(n); [o]c()<br />\n",
    ">Dims (3)[500,300] (3)[] ()[500,300]<br />\n",
    ">Slices `\":,($i),($j)\" \":\" \"($i)($j)\"`\n",
    "\n",
    "Remember that the slice notation at the bottom does not mean that you have to generate all these slices yourself. It rather tells you which subslices are used in a elementary operation. It is a way to keep track what is going on behind the scenes when PDL threading is at work. Threading makes it possible that we can call the grayscale conversion with piddles representing just one RGB pixel (shape [3]), a line of RGB pixels (shape [3,n]), RGB images (shape [3,m,n]), volumes of RGB data (shape [3,m,n,o]), etc. All we have to do is wrap the code above into a small subroutine that also does some type conversion to complete it:"
   ]
  },
  {
   "cell_type": "code",
   "execution_count": 82,
   "id": "aa6f01ff",
   "metadata": {},
   "outputs": [],
   "source": [
    "sub rgbtogr {\n",
    "    my ($im) = @_;\n",
    "    my $conv = float([77,150,29])/256; # conversion factor\n",
    "    my $gray = inner $im, $conv;\n",
    "    return $gray->convert($im->type); # convert to original type\n",
    "}"
   ]
  },
  {
   "cell_type": "markdown",
   "id": "31464345",
   "metadata": {},
   "source": [
    "## You can write your own threading routines\n",
    "\n",
    "Did you notice? By writing this little routine we have created a new function with its own signature that will thread as appropriate. It has **inherited** the ability to thread from **inner**. So what is the signature of **rgbtogr**? It is nowhere written explicitly and we can't use the **sig** function to find out about it.\n",
    "\n",
    "**sig** will only know about functions that were created using **PDL::PP** or if we explicitly specified the signature in the PDL documentation but from the properties of **inner** and the definition of **rgbtogr** we can work it out. As input it takes piddles with a size of the first dimension of 3 and returns for each of the 1D subslices a 0D result (the gray value). In other words, the signature is\n",
    "\n",
    ">**a(tri = 3); [o] b()**\n",
    "\n",
    "There is some new syntax in this signature that we haven't seen before: writing **tri=3** signifies that in a elementary operation **rgbtogr** will work on 1D subslices (we have encountered this before); additionally, the size of the first dimension (named suggestively **tri**) **must** be three. You get the idea. What we have just seen is worth keeping in mind! By using PDL functions in our own subroutines we can make new functions with the ability to thread over subslices. Obviously, this is useful. We will come back to this feature when we talk about other ways of defining threading functions using **PDL::PP** below.\n",
    "\n",
    "## Matching threading dimensions\n",
    "\n",
    "After this small digression, back to the subject at hand: what happens when both piddle arguments have extra dimensions? Well, the extra dimensions have to match. Otherwise we wouldn't know how to sensibly pair the subslices, right? So when do extra dimensions match? It is quite simple: corresponding extra dimensions have to have the same size in both piddle arguments. Corresponding extra dimensions are those that occur in both piddles. However, one piddle can have more extra dimensions than the other without causing a mismatch. That sounds strange? Ok, here is an example. We use one of the fundamental arithmetic operations in PDL, addition implemented by the \"\n",
    "+\" operator. You know already that in an array-oriented language like PDL addition is performed element-by-element on scalars. So the signature of \"+\" comes as no surprise\n",
    "\n",
    ">**a(); b(); [o] c()**\n",
    "\n",
    "two scalars are summed to yield a scalar result. And when we use higher dimensional piddles in an addition this elementary operation is performed over all 0D subslices, as before. So let's go through a few cases. First make some simple piddles"
   ]
  },
  {
   "cell_type": "code",
   "execution_count": 83,
   "id": "7ecca635",
   "metadata": {},
   "outputs": [
    {
     "data": {
      "text/plain": [
       "[1 2 3]"
      ]
     },
     "execution_count": 83,
     "metadata": {},
     "output_type": "execute_result"
    }
   ],
   "source": [
    "$a = pdl [1,2,3];"
   ]
  },
  {
   "cell_type": "code",
   "execution_count": 84,
   "id": "409ed2ce",
   "metadata": {},
   "outputs": [
    {
     "data": {
      "text/plain": [
       "[1 1 1]"
      ]
     },
     "execution_count": 84,
     "metadata": {},
     "output_type": "execute_result"
    }
   ],
   "source": [
    "$b = pdl [1,1,1];"
   ]
  },
  {
   "cell_type": "code",
   "execution_count": 85,
   "id": "2a0a8a1b",
   "metadata": {},
   "outputs": [
    {
     "data": {
      "text/plain": [
       "\n",
       "[\n",
       " [1 1 1]\n",
       " [1 1 1]\n",
       "]\n"
      ]
     },
     "execution_count": 85,
     "metadata": {},
     "output_type": "execute_result"
    }
   ],
   "source": [
    "$c = ones 3,2;"
   ]
  },
  {
   "cell_type": "code",
   "execution_count": 86,
   "id": "874d5a8f",
   "metadata": {},
   "outputs": [
    {
     "data": {
      "text/plain": [
       "[3 4]"
      ]
     },
     "execution_count": 86,
     "metadata": {},
     "output_type": "execute_result"
    }
   ],
   "source": [
    "$d = pdl [3,4];"
   ]
  },
  {
   "cell_type": "code",
   "execution_count": 87,
   "id": "81d66f72",
   "metadata": {},
   "outputs": [
    {
     "data": {
      "text/plain": [
       "[2 3 4]"
      ]
     },
     "execution_count": 87,
     "metadata": {},
     "output_type": "execute_result"
    }
   ],
   "source": [
    "$a + $b;"
   ]
  },
  {
   "cell_type": "markdown",
   "id": "dfc89c75",
   "metadata": {},
   "source": [
    "No big deal. extradims for both piddles have shape [3] obviously matching, resulting in [2 3 4]. Next"
   ]
  },
  {
   "cell_type": "code",
   "execution_count": 88,
   "id": "b6875189",
   "metadata": {},
   "outputs": [
    {
     "data": {
      "text/plain": [
       "\n",
       "[\n",
       " [2 3 4]\n",
       " [2 3 4]\n",
       "]\n"
      ]
     },
     "execution_count": 88,
     "metadata": {},
     "output_type": "execute_result"
    }
   ],
   "source": [
    "$a + $c;"
   ]
  },
  {
   "cell_type": "markdown",
   "id": "5022ffe6",
   "metadata": {},
   "source": [
    "Alright, this probably is exactly what you expected but let us go through our new terminology and heck that we can formally agree with what we intuitively expected anyway.\n",
    "\n",
    "`$a`'s extradim (s) has shape [3] , those of `$c` shape [3,2]. The corresponding extradim(s) in this case is just the first one for the piddles involved. It is equal to 3 in both input piddles, so clearly matches.\n",
    "\n",
    ">`$a $c`<br />\n",
    "a(); b(); [o] c()<br />\n",
    "()[3] ()[3,2] ?????\n",
    "\n",
    "Now, here is something we have not explicitly discussed yet: what is the shape of the automatically created output piddle given the shape of the extradims of the input piddles involved? Well, the result is created so that it has as many extradims as that **input piddle(s)** with the most extradims. Additionally, the shape will match that of the input piddles. In our current example that leaves us with a result with extradim shape [3,2]: [o] c() ()[3,2]. Remembering that we obtain the shape of the output piddle by appending the shapes of the extradims to that of the elementary dimensions (here a scalar, i.e. 0D) that leaves us with a result piddle of shape [3,2].\n",
    "\n",
    "In the next example we want to multiply `$c` with `$d` so that each row of `$c` is multiplied by the corresponding element of `$d` or expressed in slices (with NiceSlice syntax):\n",
    "\n",
    ">`$result(($i),($j)) = $c(($i),($j)) * $d(($j)) $i=0..2, $j=0..1`\n",
    "\n",
    "How do we achieve that by threading?\n",
    "\n",
    ">`$result = $c*$d`\n",
    "\n",
    "is not the right way.\n",
    "\n",
    "Why? Well, the extradims don't match, [3,2] does not match [2] since 2 is not equal to 3. Just to see how PDL checks this let us actually execute the command. The slightly obscure error message is something like this\n",
    "\n",
    ">PDL: PDL::Ops::mult(a,b,c): Parameter 'b'<br />\n",
    "Mismatched implicit broadcast dimension 0: size 3 vs. 2<br />\n",
    "There are 3 PDLs in the expression; 2 broadcast dims.<br />\n",
    "&emsp;PDL IN EXPR.&emsp;BROADCAST&emsp;DIMS<br />\n",
    "&emsp;\\#  0 (normal):&emsp;&emsp;3&emsp;&emsp;&emsp;&emsp;&emsp;&emsp;&emsp;2<br />\n",
    "&emsp;\\#  1 (normal):&emsp;&emsp;2<br />\n",
    "&emsp;\\#  2 (null)<br />\n",
    "   \n",
    "This is PDL's way to tell you that the extra dimensions don't match. So how do we do it? We use one of the dimension manipulation methods again. This time **dummy** comes in handy. We want to multiply each element in the nth row of `$c` with the nth element of `$d`.\n",
    "\n",
    "So we have to repeat each element of `$d` as many times as there are elements in each row of `$c`. This is exactly what we can achieve by inserting a dummy dimension of size **`$c->getdim(0)`** as dimension 0 of `$d`:"
   ]
  },
  {
   "cell_type": "code",
   "execution_count": 89,
   "id": "98a8260c",
   "metadata": {},
   "outputs": [
    {
     "name": "stdout",
     "output_type": "stream",
     "text": [
      "New dims\tDouble D [3,2]\n"
     ]
    },
    {
     "data": {
      "text/plain": [
       "\n",
       "[\n",
       " [3 3 3]\n",
       " [4 4 4]\n",
       "]\n"
      ]
     },
     "execution_count": 89,
     "metadata": {},
     "output_type": "execute_result"
    }
   ],
   "source": [
    "$d->dummy(0,$c->getdim(0))->pdim(\"New dims\");"
   ]
  },
  {
   "cell_type": "markdown",
   "id": "4c9d73fa",
   "metadata": {},
   "source": [
    "Using this trick we have a our threaded multiplication do what we want. And now the extra dimensions **match(!)**:"
   ]
  },
  {
   "cell_type": "code",
   "execution_count": 90,
   "id": "3088a164",
   "metadata": {},
   "outputs": [
    {
     "data": {
      "text/plain": [
       "\n",
       "[\n",
       " [3 3 3]\n",
       " [4 4 4]\n",
       "]\n"
      ]
     },
     "execution_count": 90,
     "metadata": {},
     "output_type": "execute_result"
    }
   ],
   "source": [
    " $result = $c * $d->dummy(0,$c->getdim(0));"
   ]
  },
  {
   "cell_type": "markdown",
   "id": "be9730e0",
   "metadata": {},
   "source": [
    "Using our symbolic way of writing down the slices that are paired in a elementary operation we can see that we achieve what we wanted\n",
    "\n",
    ">`$c $d->dummy(0,$c->getdim(0)) $result`<br />\n",
    "`\"($i),(j)\" \"($i),($j)\" \"($i),($j)\"`\n",
    "\n",
    "But hang on, we want to verify (somewhat formally) that the right subslices of the original `$d` are used in each elementary operation. That is easily achieved by noting that the slice (`$i`),(`$j`) of the dummied `$d` is equivalent to the subslice (`$j`) of the original 1D piddle `$d` . So we finally arrive at\n",
    "\n",
    ">`$c $d $result`<br />\n",
    "`\"($i),(j)\" \"($j)\" \"($i),($j)\"`\n",
    "\n",
    "While this kind of analysis seems probably not justified when dealing with such a simple example it comes in very handy when looking at more complex threaded code.\n",
    "\n",
    "But before we try our understanding on such an example we look once again at the way extra dims have to match in a thread loop. In the previous example, we had to find out about the size of `$c`'s first dimension (using **getdim(0)**) to make a dummy dimension that would fit `$c`'s extradims in the threaded multiplication. Since similar situations occur very often when writing threaded PDL code the matching rules for extra dimensions allow a dimension size of 1 to match any other dimension size: it is the **elastic** dimension size in a sense that it grows in a thread loop as required. As in the thread loop the corresponding extra dimension is marched through all its positions (e.g. `slice(\":,($i)\" $i=0..n-1`) the elastic dimension just uses its one and only position 0 repeatedly (`slice(\":,(0)\") $i=0..n-1`). Therefore, an equivalent and more concise way to write the threaded multiplications makes use of this and the fact that a dummy dimension of size 1 is created by default if the second argument is omitted (see **help dummy**)."
   ]
  },
  {
   "cell_type": "code",
   "execution_count": 91,
   "id": "d93971cf",
   "metadata": {},
   "outputs": [
    {
     "name": "stdout",
     "output_type": "stream",
     "text": [
      "c\tDouble D [3,2]\n",
      "dd\tDouble D [1,2]\n"
     ]
    },
    {
     "data": {
      "text/plain": [
       "\n",
       "[\n",
       " [3 3 3]\n",
       " [4 4 4]\n",
       "]\n"
      ]
     },
     "execution_count": 91,
     "metadata": {},
     "output_type": "execute_result"
    }
   ],
   "source": [
    "$c->pdim('c') * $d->dummy(0)->pdim('dd');"
   ]
  },
  {
   "cell_type": "markdown",
   "id": "c523b430",
   "metadata": {},
   "source": [
    ">`$A [l,m] $B [n,l] $AB [n,m];`<br />\n",
    "`$AB = inner $A->dummy(1), $B->xchg(0,1);`<br />\n",
    "`$A->dummy(1) $B->xchg(0,1) $AB`<br />\n",
    "`(l)[1,m] (l)[n] ()[n,m]`<br />\n",
    "`\":,(0),($j)\" \":,($i)\" \"($i)($j)\"`\n",
    "\n",
    "Going back to the original piddles `$A` and `$B` we see that the slice expressions change to\n",
    "\n",
    ">`$A $B $AB`<br />\n",
    "`\":,($j)\" \"($i),:\" \"($i),($j)\"`\n",
    "\n",
    "and that means\n",
    "\n",
    ">`$AB(($i),($j)) = inner $A(:,($j)), $B(($i),:) $i=0..n-1, $j=0..m-1`\n",
    "\n",
    "and that is exactly the definition of the matrix product as we explained above! Our bit of formalism has sort of \"proved\" it. You see that the slice and dimension matching formalism we developed can really be helpful when you try to verify that your complicated threading expression does what you want it to do. However, as you get more experience with threading we strongly suspect that you don't need this any more; you will rather develop a much better \"feeling\" how to write down the right combination of dimension manipulations to achieve the desired result in a thread loop."
   ]
  },
  {
   "cell_type": "code",
   "execution_count": null,
   "id": "1394edd0",
   "metadata": {},
   "outputs": [],
   "source": []
  }
 ],
 "metadata": {
  "kernelspec": {
   "display_name": "IPerl 0.012",
   "language": "perl",
   "name": "iperl"
  },
  "language_info": {
   "file_extension": ".pl",
   "mimetype": "text/x-perl",
   "name": "perl",
   "version": "5.36.0"
  }
 },
 "nbformat": 4,
 "nbformat_minor": 5
}
