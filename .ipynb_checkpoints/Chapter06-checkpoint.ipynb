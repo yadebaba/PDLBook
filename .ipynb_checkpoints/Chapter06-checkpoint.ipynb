{
 "cells": [
  {
   "cell_type": "markdown",
   "id": "cb636bc7",
   "metadata": {},
   "source": [
    "# Writing your own functions into PDL\n",
    "\n",
    "## Using PDL Functions\n",
    "\n",
    "PDL shares the Perl method for building functions for code that perform a commonly repeated function - you can define a function with sub, a function name, and a pair of curly braces.\n",
    "\n",
    "Here's a simple function in a PDL script:"
   ]
  },
  {
   "cell_type": "code",
   "execution_count": 1,
   "id": "3a262c96",
   "metadata": {},
   "outputs": [
    {
     "data": {
      "text/plain": [
       "[0 1 2 3 4 5 6 7 8 9]"
      ]
     },
     "execution_count": 1,
     "metadata": {},
     "output_type": "execute_result"
    }
   ],
   "source": [
    "# I splitted the script for studying it in IPerl\n",
    "use PDL;\n",
    "$a = sequence(10);"
   ]
  },
  {
   "cell_type": "code",
   "execution_count": 2,
   "id": "475f0981",
   "metadata": {},
   "outputs": [
    {
     "data": {
      "text/plain": [
       "[0 4 8 12 16 20 24 28 32 36]"
      ]
     },
     "execution_count": 2,
     "metadata": {},
     "output_type": "execute_result"
    }
   ],
   "source": [
    "$b = $a * 4;"
   ]
  },
  {
   "cell_type": "code",
   "execution_count": 3,
   "id": "cf590438",
   "metadata": {},
   "outputs": [],
   "source": [
    "sub my_sums {\n",
    "    my ($a1, $a2) = @_; # pdls passed in the perl array @_\n",
    "    my $c = $a1 + $a2;\n",
    "    my $difference = $a1 - $a2;\n",
    "    return($c, $difference);\n",
    "}"
   ]
  },
  {
   "cell_type": "code",
   "execution_count": 4,
   "id": "89244151",
   "metadata": {},
   "outputs": [
    {
     "data": {
      "text/plain": [
       "[0 -3 -6 -9 -12 -15 -18 -21 -24 -27]"
      ]
     },
     "execution_count": 4,
     "metadata": {},
     "output_type": "execute_result"
    }
   ],
   "source": [
    "$result = my_sums($a, $b);"
   ]
  },
  {
   "cell_type": "code",
   "execution_count": 5,
   "id": "43f5fa06",
   "metadata": {},
   "outputs": [
    {
     "data": {
      "text/plain": [
       "[0 5 10 15 20 25 30 35 40 45][0 -3 -6 -9 -12 -15 -18 -21 -24 -27]"
      ]
     },
     "execution_count": 5,
     "metadata": {},
     "output_type": "execute_result"
    }
   ],
   "source": [
    "my_sums($a, $b);"
   ]
  },
  {
   "cell_type": "code",
   "execution_count": 6,
   "id": "6ade2cd3",
   "metadata": {},
   "outputs": [
    {
     "data": {
      "text/plain": [
       "[13 24 35][7 16 25]"
      ]
     },
     "execution_count": 6,
     "metadata": {},
     "output_type": "execute_result"
    }
   ],
   "source": [
    "my_sums(pdl(10,20,30), pdl(3,4,5) );"
   ]
  },
  {
   "cell_type": "markdown",
   "id": "d59133f2",
   "metadata": {},
   "source": [
    "As you can see, the function is called **my_sums** and it is defined at the end of this script, but you can define functions anywhere in the script. In the example above, we call **my_sums** twice, printing out the answers as we go.\n",
    "\n",
    "You can return as many PDLs from the function as you want, by passing them out in a comma separated list.\n",
    "\n",
    "You can define the functions in any part of your Perl script, even after the point in the program that you started using the function. The input variables to the function are passed through the @_ array, and we can put any set of piddles into the function. The function also has local scope, so variables inside the routine are not seen by anything calling that function. Remember, though, that the variables outside the function **can** be seen inside the function! It's good practice to have a use strict; inside your functions whilst writing them, though, as this will help catch bugs."
   ]
  },
  {
   "cell_type": "markdown",
   "id": "25905ccc",
   "metadata": {},
   "source": [
    "## Moving Functions into Separate Files\n",
    "\n",
    "It gets tiring to copy and paste your useful functions from script to script, and so PDL provides a way to have your functions stored in a file that can be read by many scripts.\n",
    "\n",
    "Two important notes:\n",
    "\n",
    "- The filename has **.pdl** at its end, not **.pl**\n",
    "- The file has 1; as the last line outside the curly braces of the statement.\n",
    "\n",
    "Use a file editor and cut and paste the text below into a file with the name **my_sums.pdl**.\n",
    "\n",
    "```\n",
    "    sub my_sums {\n",
    "        ($a1, $a2) = @_;\n",
    "        my $c = $a1 + $a2;\n",
    "        my $difference = $a1 - $a2;\n",
    "        return($c, $difference);\n",
    "    }\n",
    "    1;\n",
    "```\n",
    "Now create a separate script in the same directory:\n",
    "\n",
    "```\n",
    "    #!/usr/bin/perl\n",
    "    use PDL;\n",
    "    use PDL::AutoLoader;\n",
    "    $a = sequence(10);\n",
    "    $b = $a * 4;\n",
    "    $result = my_sums($a, $b);\n",
    "    print $result;\n",
    "    print my_sums(pdl(10,20,30), pdl(3,4,5) );\n",
    "```\n",
    "\n",
    "Running this Perl script will include PDL, and PDL will automatically look for a file called my_sums.pdl (remember the extension has to have .pdl) and use it."
   ]
  },
  {
   "cell_type": "markdown",
   "id": "fc79deea",
   "metadata": {},
   "source": [
    "## Getting PDL to look for your functions in other places\n",
    "\n",
    "After a while, you will have many PDL functions scattered over many directories, and so it makes sense to collect all your functions into a separate directory and have PDL look for them there.\n",
    "\n",
    "You can set an environment variable in your shell called **PDLLIB** to look within a given directory. One convention is to use **`PDLLIB=${HOME}/lib/pdl+`** to store all your functions. When defined in your system shell, this will inform PDL where you've put your commonly used functions. The directory path is specified to your PDL library directory. The + sign at the end of the path tells PDL to also look in all the subdirectories below the PDLLIB directory.\n",
    "\n",
    "## Documenting your Functions\n",
    "\n",
    "Just like any other Perl script, you can add Plain Old Documentation (POD) inside your PDL functions.\n",
    "\n",
    "For a detailed look at what you can have in a POD, look at perlpod with **perldoc perlpod** or look online for a tutorial.\n",
    "\n",
    "At the bare minimum, the POD should say what the PDL function does, what are its inputs and outputs. Further detail may include one or two examples so that a new user can test it and check they understand what the function behaves, look at perlpod with **perldoc perlpod** or look online for a tutorial."
   ]
  },
  {
   "cell_type": "code",
   "execution_count": null,
   "id": "0012996a",
   "metadata": {},
   "outputs": [],
   "source": []
  }
 ],
 "metadata": {
  "kernelspec": {
   "display_name": "IPerl 0.012",
   "language": "perl",
   "name": "iperl"
  },
  "language_info": {
   "file_extension": ".pl",
   "mimetype": "text/x-perl",
   "name": "perl",
   "version": "5.36.0"
  }
 },
 "nbformat": 4,
 "nbformat_minor": 5
}
